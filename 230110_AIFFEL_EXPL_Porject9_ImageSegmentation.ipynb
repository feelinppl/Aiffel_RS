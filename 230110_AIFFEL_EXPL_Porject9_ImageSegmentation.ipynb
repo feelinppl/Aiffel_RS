{
 "cells": [
  {
   "cell_type": "code",
   "execution_count": null,
   "metadata": {},
   "outputs": [],
   "source": []
  }
 ],
 "metadata": {
  "kernelspec": {
   "display_name": "Python 3",
   "language": "python",
   "name": "python3"
  },
  "language_info": {
   "name": "python",
   "version": "3.9.13 (main, Dec 30 2022, 12:26:09) \n[Clang 14.0.0 (clang-1400.0.29.202)]"
  },
  "orig_nbformat": 4,
  "vscode": {
   "interpreter": {
    "hash": "802d0f7a26127252f28a9df42f49ee2534ead7cb6e51860f886a42585ae18be6"
   }
  }
 },
 "nbformat": 4,
 "nbformat_minor": 2
}
