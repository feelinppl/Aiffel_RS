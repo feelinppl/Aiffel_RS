{
 "cells": [
  {
   "attachments": {},
   "cell_type": "markdown",
   "metadata": {},
   "source": [
    "# <center>네이버 영화리뷰 감성분석 도전하기</center>\n",
    "\n",
    "이전 스텝까지는 영문 텍스트의 감정 분석을 진행해 보았습니다. 그렇다면 이번에는 한국어 텍스트의 감정 분석을 진행해 보면 어떨까요? 오늘 활용할 데이터셋은 네이버 영화의 댓글을 모아 구성된 Naver sentiment movie corpus입니다.\n",
    "\n",
    "```\n",
    "/Documents/projects/Aiffel/lms/projects/data/proj_8/*.txt\n",
    "```"
   ]
  },
  {
   "cell_type": "code",
   "execution_count": 3,
   "metadata": {},
   "outputs": [
    {
     "name": "stdout",
     "output_type": "stream",
     "text": [
      "1.23.5\n",
      "1.4.2\n",
      "0.6.0\n",
      "4.2.0\n"
     ]
    }
   ],
   "source": [
    "import pandas as pd\n",
    "import konlpy\n",
    "import matplotlib.pyplot as plt\n",
    "import gensim\n",
    "import numpy as np \n",
    "import seaborn as sns\n",
    "\n",
    "print(np.__version__)\n",
    "print(pd.__version__)\n",
    "print(konlpy.__version__)\n",
    "print(gensim.__version__)"
   ]
  },
  {
   "attachments": {},
   "cell_type": "markdown",
   "metadata": {},
   "source": [
    "### 1) 데이터 준비와 확인"
   ]
  },
  {
   "cell_type": "code",
   "execution_count": 63,
   "metadata": {},
   "outputs": [
    {
     "data": {
      "text/html": [
       "<div>\n",
       "<style scoped>\n",
       "    .dataframe tbody tr th:only-of-type {\n",
       "        vertical-align: middle;\n",
       "    }\n",
       "\n",
       "    .dataframe tbody tr th {\n",
       "        vertical-align: top;\n",
       "    }\n",
       "\n",
       "    .dataframe thead th {\n",
       "        text-align: right;\n",
       "    }\n",
       "</style>\n",
       "<table border=\"1\" class=\"dataframe\">\n",
       "  <thead>\n",
       "    <tr style=\"text-align: right;\">\n",
       "      <th></th>\n",
       "      <th>id</th>\n",
       "      <th>document</th>\n",
       "      <th>label</th>\n",
       "    </tr>\n",
       "  </thead>\n",
       "  <tbody>\n",
       "    <tr>\n",
       "      <th>0</th>\n",
       "      <td>9976970</td>\n",
       "      <td>아 더빙.. 진짜 짜증나네요 목소리</td>\n",
       "      <td>0.0</td>\n",
       "    </tr>\n",
       "    <tr>\n",
       "      <th>1</th>\n",
       "      <td>3819312</td>\n",
       "      <td>흠...포스터보고 초딩영화줄....오버연기조차 가볍지 않구나</td>\n",
       "      <td>1.0</td>\n",
       "    </tr>\n",
       "    <tr>\n",
       "      <th>2</th>\n",
       "      <td>10265843</td>\n",
       "      <td>너무재밓었다그래서보는것을추천한다</td>\n",
       "      <td>0.0</td>\n",
       "    </tr>\n",
       "    <tr>\n",
       "      <th>3</th>\n",
       "      <td>9045019</td>\n",
       "      <td>교도소 이야기구먼 ..솔직히 재미는 없다..평점 조정</td>\n",
       "      <td>0.0</td>\n",
       "    </tr>\n",
       "    <tr>\n",
       "      <th>4</th>\n",
       "      <td>6483659</td>\n",
       "      <td>사이몬페그의 익살스런 연기가 돋보였던 영화!스파이더맨에서 늙어보이기만 했던 커스틴 ...</td>\n",
       "      <td>1.0</td>\n",
       "    </tr>\n",
       "  </tbody>\n",
       "</table>\n",
       "</div>"
      ],
      "text/plain": [
       "         id                                           document  label\n",
       "0   9976970                                아 더빙.. 진짜 짜증나네요 목소리    0.0\n",
       "1   3819312                  흠...포스터보고 초딩영화줄....오버연기조차 가볍지 않구나    1.0\n",
       "2  10265843                                  너무재밓었다그래서보는것을추천한다    0.0\n",
       "3   9045019                      교도소 이야기구먼 ..솔직히 재미는 없다..평점 조정    0.0\n",
       "4   6483659  사이몬페그의 익살스런 연기가 돋보였던 영화!스파이더맨에서 늙어보이기만 했던 커스틴 ...    1.0"
      ]
     },
     "execution_count": 63,
     "metadata": {},
     "output_type": "execute_result"
    }
   ],
   "source": [
    "# 데이터를 읽어봅시다. \n",
    "train_data = pd.read_table('~/Documents/projects/Aiffel/lms/projects/data/proj_8/naver_review_ratings_train.txt')\n",
    "test_data = pd.read_table('~/Documents/projects/Aiffel/lms/projects/data/proj_8/naver_review_ratings_test.txt')\n",
    "\n",
    "train_data.head()"
   ]
  },
  {
   "cell_type": "code",
   "execution_count": 64,
   "metadata": {},
   "outputs": [
    {
     "data": {
      "text/html": [
       "<div>\n",
       "<style scoped>\n",
       "    .dataframe tbody tr th:only-of-type {\n",
       "        vertical-align: middle;\n",
       "    }\n",
       "\n",
       "    .dataframe tbody tr th {\n",
       "        vertical-align: top;\n",
       "    }\n",
       "\n",
       "    .dataframe thead th {\n",
       "        text-align: right;\n",
       "    }\n",
       "</style>\n",
       "<table border=\"1\" class=\"dataframe\">\n",
       "  <thead>\n",
       "    <tr style=\"text-align: right;\">\n",
       "      <th></th>\n",
       "      <th>id</th>\n",
       "      <th>document</th>\n",
       "      <th>label</th>\n",
       "    </tr>\n",
       "  </thead>\n",
       "  <tbody>\n",
       "    <tr>\n",
       "      <th>0</th>\n",
       "      <td>6270596</td>\n",
       "      <td>굳 ㅋ</td>\n",
       "      <td>1</td>\n",
       "    </tr>\n",
       "    <tr>\n",
       "      <th>1</th>\n",
       "      <td>9274899</td>\n",
       "      <td>GDNTOPCLASSINTHECLUB</td>\n",
       "      <td>0</td>\n",
       "    </tr>\n",
       "    <tr>\n",
       "      <th>2</th>\n",
       "      <td>8544678</td>\n",
       "      <td>뭐야 이 평점들은.... 나쁘진 않지만 10점 짜리는 더더욱 아니잖아</td>\n",
       "      <td>0</td>\n",
       "    </tr>\n",
       "    <tr>\n",
       "      <th>3</th>\n",
       "      <td>6825595</td>\n",
       "      <td>지루하지는 않은데 완전 막장임... 돈주고 보기에는....</td>\n",
       "      <td>0</td>\n",
       "    </tr>\n",
       "    <tr>\n",
       "      <th>4</th>\n",
       "      <td>6723715</td>\n",
       "      <td>3D만 아니었어도 별 다섯 개 줬을텐데.. 왜 3D로 나와서 제 심기를 불편하게 하죠??</td>\n",
       "      <td>0</td>\n",
       "    </tr>\n",
       "  </tbody>\n",
       "</table>\n",
       "</div>"
      ],
      "text/plain": [
       "        id                                           document  label\n",
       "0  6270596                                                굳 ㅋ      1\n",
       "1  9274899                               GDNTOPCLASSINTHECLUB      0\n",
       "2  8544678             뭐야 이 평점들은.... 나쁘진 않지만 10점 짜리는 더더욱 아니잖아      0\n",
       "3  6825595                   지루하지는 않은데 완전 막장임... 돈주고 보기에는....      0\n",
       "4  6723715  3D만 아니었어도 별 다섯 개 줬을텐데.. 왜 3D로 나와서 제 심기를 불편하게 하죠??      0"
      ]
     },
     "execution_count": 64,
     "metadata": {},
     "output_type": "execute_result"
    }
   ],
   "source": [
    "test_data.head()"
   ]
  },
  {
   "cell_type": "code",
   "execution_count": 65,
   "metadata": {},
   "outputs": [
    {
     "name": "stdout",
     "output_type": "stream",
     "text": [
      "(85784, 3) (50000, 3)\n"
     ]
    }
   ],
   "source": [
    "print(train_data.shape, test_data.shape)"
   ]
  },
  {
   "cell_type": "code",
   "execution_count": 66,
   "metadata": {},
   "outputs": [],
   "source": [
    "train_data['str_len'] = train_data['document'].str.len()"
   ]
  },
  {
   "attachments": {},
   "cell_type": "markdown",
   "metadata": {},
   "source": [
    "### 2) 데이터로더 구성\n",
    "실습 때 다루었던 IMDB 데이터셋은 텍스트를 가공하여 imdb.data_loader() 메서드를 호출하면 숫자 인덱스로 변환된 텍스트와 word_to_index 딕셔너리까지 친절하게 제공합니다. 그러나 이번에 다루게 될 nsmc 데이터셋은 전혀 가공되지 않은 텍스트 파일로 이루어져 있습니다. 이것을 읽어서 imdb.data_loader()와 동일하게 동작하는 자신만의 data_loader를 만들어 보는 것으로 시작합니다. data_loader 안에서는 다음을 수행해야 합니다.\n",
    "\n",
    "데이터의 중복 제거\n",
    "NaN 결측치 제거\n",
    "한국어 토크나이저로 토큰화\n",
    "불용어(Stopwords) 제거\n",
    "사전word_to_index 구성\n",
    "텍스트 스트링을 사전 인덱스 스트링으로 변환\n",
    "X_train, y_train, X_test, y_test, word_to_index 리턴\n"
   ]
  },
  {
   "cell_type": "code",
   "execution_count": 67,
   "metadata": {},
   "outputs": [
    {
     "data": {
      "image/png": "[encoded data removed]",
      "text/plain": [
       "<Figure size 1200x400 with 2 Axes>"
      ]
     },
     "metadata": {},
     "output_type": "display_data"
    }
   ],
   "source": [
    "# sns.lineplot(x = train_data.index, y = train_data['document'].str.len())\n",
    "fig, axes = plt.subplots(1,2, figsize = (12,4))\n",
    "sns.boxplot(sorted(train_data['document'].str.len()), ax = axes[0])\n",
    "sns.histplot(data = train_data, x = 'str_len', bins = 50, ax = axes[1], hue='label')\n",
    "plt.show()"
   ]
  },
  {
   "cell_type": "code",
   "execution_count": 68,
   "metadata": {},
   "outputs": [
    {
     "name": "stdout",
     "output_type": "stream",
     "text": [
      "count    85782.000000\n",
      "mean        35.306778\n",
      "std         29.602170\n",
      "min          1.000000\n",
      "25%         16.000000\n",
      "50%         27.000000\n",
      "75%         43.000000\n",
      "max        146.000000\n",
      "Name: document, dtype: float64\n"
     ]
    },
    {
     "data": {
      "text/plain": [
       "0.0    42976\n",
       "1.0    42807\n",
       "Name: label, dtype: int64"
      ]
     },
     "execution_count": 68,
     "metadata": {},
     "output_type": "execute_result"
    }
   ],
   "source": [
    "print(train_data['document'].str.len().describe())\n",
    "train_data['label'].value_counts()"
   ]
  },
  {
   "cell_type": "code",
   "execution_count": 69,
   "metadata": {},
   "outputs": [
    {
     "name": "stdout",
     "output_type": "stream",
     "text": [
      "train_data 전체 자료수:  85784\n",
      " 중복이 없는 document data:  83949 \n",
      " 중복없는 id: 85784 \n",
      " 중복된 document data:  1835\n"
     ]
    }
   ],
   "source": [
    "print(\"train_data 전체 자료수: \", len(train_data))\n",
    "print(\" 중복이 없는 document data: \",len(set(train_data['document'])), \"\\n\", \\\n",
    "    \"중복없는 id:\", len(set(train_data['id'])), \"\\n\",\\\n",
    "    \"중복된 document data: \", train_data['document'].duplicated().sum())\n"
   ]
  },
  {
   "attachments": {},
   "cell_type": "markdown",
   "metadata": {},
   "source": [
    "- id에는 중복이 없으나, 글 내용이 같은 데이터가 약 1,835개가 존재하는 것으로 확인됨\n",
    "\n",
    "- 구체적으로 어떤 글들이 중복되었는지 확인"
   ]
  },
  {
   "cell_type": "code",
   "execution_count": 70,
   "metadata": {},
   "outputs": [
    {
     "name": "stdout",
     "output_type": "stream",
     "text": [
      "1058                                                     4\n",
      "1097                                                    쵝오\n",
      "1248                                                    최고\n",
      "1483                                                    최고\n",
      "1707                                                   재밌다\n",
      "                               ...                        \n",
      "85599                                                 멋집니다\n",
      "85673    나는 희망한다. 나의 꿈을... 영화는 나에게 알게해줬다! 나의 마음속에 담겨져 있...\n",
      "85680                                                   굿굿\n",
      "85747                                                 좋아요.\n",
      "85764                                                  ...\n",
      "Name: document, Length: 1835, dtype: object\n"
     ]
    }
   ],
   "source": [
    "print(train_data['document'][train_data['document'].duplicated()])"
   ]
  },
  {
   "attachments": {},
   "cell_type": "markdown",
   "metadata": {},
   "source": [
    "- 전체적으로 최고, 쵝오, 재밌다, 굿굿 등 짧은 글들이 많이 중복되어 있는 것을 보임. 따라서 이들이 평점상으로는 의미가 있는 것으로 판단되며, 만약에 꽤 긴 글이 중복되었다면 이는 다른 아이디로 같은 내용을 두 번쓴 것으로 판단할 수 있을 것으로 보임."
   ]
  },
  {
   "cell_type": "code",
   "execution_count": 71,
   "metadata": {},
   "outputs": [
    {
     "name": "stderr",
     "output_type": "stream",
     "text": [
      "/var/folders/l5/xccndwgd1qd4v2sfh261kbpm0000gn/T/ipykernel_69215/382785877.py:1: FutureWarning: Index.__and__ operating as a set operation is deprecated, in the future this will be a logical operation matching Series.__and__.  Use index.intersection(other) instead.\n",
      "  train_data['document'][train_data.index[train_data['document'].duplicated()] & train_data.index[train_data['document'].str.len() >= 10]]\n"
     ]
    },
    {
     "data": {
      "text/plain": [
       "4045                             물체가 움직이거나 어떤 일이 진행되는 빠르기.\n",
       "6402                                       tv 전기세가 아까웠다!!!\n",
       "6623                             물체가 움직이거나 어떤 일이 진행되는 빠르기.\n",
       "7353                                            더럽게 재미없다..\n",
       "7617                                          마음이 따뜻해지는 영화\n",
       "                               ...                        \n",
       "84340                                       tv 전기세가 아깝다!!!\n",
       "84781                                       tv 전기세가 아깝다!!!\n",
       "84982    세계관이니 이해력의 문제가 아니다. 애초에 철학없이 그럴싸 한것만 나열해 놓구선, ...\n",
       "85081                                           더럽게 재미없다..\n",
       "85673    나는 희망한다. 나의 꿈을... 영화는 나에게 알게해줬다! 나의 마음속에 담겨져 있...\n",
       "Name: document, Length: 205, dtype: object"
      ]
     },
     "execution_count": 71,
     "metadata": {},
     "output_type": "execute_result"
    }
   ],
   "source": [
    "train_data['document'][train_data.index[train_data['document'].duplicated()] & train_data.index[train_data['document'].str.len() >= 10]]"
   ]
  },
  {
   "attachments": {},
   "cell_type": "markdown",
   "metadata": {},
   "source": [
    "- 글자수를 1부터 하나씩 올려가면서 직접 확인 결과 10글자 이상되는 글 중에 중복되는 것은 쉽게 겹치기 어려운 부분이라고 판단. 205개의 데이터는 제외하기로 결정함."
   ]
  },
  {
   "cell_type": "code",
   "execution_count": 72,
   "metadata": {},
   "outputs": [
    {
     "name": "stderr",
     "output_type": "stream",
     "text": [
      "/var/folders/l5/xccndwgd1qd4v2sfh261kbpm0000gn/T/ipykernel_69215/2078512671.py:1: FutureWarning: Index.__and__ operating as a set operation is deprecated, in the future this will be a logical operation matching Series.__and__.  Use index.intersection(other) instead.\n",
      "  index = train_data.index[train_data.index[train_data['document'].duplicated()] & train_data.index[train_data['document'].str.len() >= 10]]\n"
     ]
    },
    {
     "data": {
      "text/html": [
       "<div>\n",
       "<style scoped>\n",
       "    .dataframe tbody tr th:only-of-type {\n",
       "        vertical-align: middle;\n",
       "    }\n",
       "\n",
       "    .dataframe tbody tr th {\n",
       "        vertical-align: top;\n",
       "    }\n",
       "\n",
       "    .dataframe thead th {\n",
       "        text-align: right;\n",
       "    }\n",
       "</style>\n",
       "<table border=\"1\" class=\"dataframe\">\n",
       "  <thead>\n",
       "    <tr style=\"text-align: right;\">\n",
       "      <th></th>\n",
       "      <th>id</th>\n",
       "      <th>document</th>\n",
       "      <th>label</th>\n",
       "      <th>str_len</th>\n",
       "    </tr>\n",
       "  </thead>\n",
       "  <tbody>\n",
       "    <tr>\n",
       "      <th>4045</th>\n",
       "      <td>9297134</td>\n",
       "      <td>물체가 움직이거나 어떤 일이 진행되는 빠르기.</td>\n",
       "      <td>0.0</td>\n",
       "      <td>25.0</td>\n",
       "    </tr>\n",
       "    <tr>\n",
       "      <th>6402</th>\n",
       "      <td>8849139</td>\n",
       "      <td>tv 전기세가 아까웠다!!!</td>\n",
       "      <td>0.0</td>\n",
       "      <td>15.0</td>\n",
       "    </tr>\n",
       "    <tr>\n",
       "      <th>6623</th>\n",
       "      <td>9576197</td>\n",
       "      <td>물체가 움직이거나 어떤 일이 진행되는 빠르기.</td>\n",
       "      <td>0.0</td>\n",
       "      <td>25.0</td>\n",
       "    </tr>\n",
       "    <tr>\n",
       "      <th>7353</th>\n",
       "      <td>6763280</td>\n",
       "      <td>더럽게 재미없다..</td>\n",
       "      <td>0.0</td>\n",
       "      <td>10.0</td>\n",
       "    </tr>\n",
       "    <tr>\n",
       "      <th>7617</th>\n",
       "      <td>587411</td>\n",
       "      <td>마음이 따뜻해지는 영화</td>\n",
       "      <td>1.0</td>\n",
       "      <td>12.0</td>\n",
       "    </tr>\n",
       "    <tr>\n",
       "      <th>...</th>\n",
       "      <td>...</td>\n",
       "      <td>...</td>\n",
       "      <td>...</td>\n",
       "      <td>...</td>\n",
       "    </tr>\n",
       "    <tr>\n",
       "      <th>84340</th>\n",
       "      <td>8769379</td>\n",
       "      <td>tv 전기세가 아깝다!!!</td>\n",
       "      <td>0.0</td>\n",
       "      <td>14.0</td>\n",
       "    </tr>\n",
       "    <tr>\n",
       "      <th>84781</th>\n",
       "      <td>8190719</td>\n",
       "      <td>tv 전기세가 아깝다!!!</td>\n",
       "      <td>0.0</td>\n",
       "      <td>14.0</td>\n",
       "    </tr>\n",
       "    <tr>\n",
       "      <th>84982</th>\n",
       "      <td>8984868</td>\n",
       "      <td>세계관이니 이해력의 문제가 아니다. 애초에 철학없이 그럴싸 한것만 나열해 놓구선, ...</td>\n",
       "      <td>0.0</td>\n",
       "      <td>75.0</td>\n",
       "    </tr>\n",
       "    <tr>\n",
       "      <th>85081</th>\n",
       "      <td>7485308</td>\n",
       "      <td>더럽게 재미없다..</td>\n",
       "      <td>0.0</td>\n",
       "      <td>10.0</td>\n",
       "    </tr>\n",
       "    <tr>\n",
       "      <th>85673</th>\n",
       "      <td>9458159</td>\n",
       "      <td>나는 희망한다. 나의 꿈을... 영화는 나에게 알게해줬다! 나의 마음속에 담겨져 있...</td>\n",
       "      <td>1.0</td>\n",
       "      <td>57.0</td>\n",
       "    </tr>\n",
       "  </tbody>\n",
       "</table>\n",
       "<p>205 rows × 4 columns</p>\n",
       "</div>"
      ],
      "text/plain": [
       "            id                                           document  label  \\\n",
       "4045   9297134                          물체가 움직이거나 어떤 일이 진행되는 빠르기.    0.0   \n",
       "6402   8849139                                    tv 전기세가 아까웠다!!!    0.0   \n",
       "6623   9576197                          물체가 움직이거나 어떤 일이 진행되는 빠르기.    0.0   \n",
       "7353   6763280                                         더럽게 재미없다..    0.0   \n",
       "7617    587411                                       마음이 따뜻해지는 영화    1.0   \n",
       "...        ...                                                ...    ...   \n",
       "84340  8769379                                     tv 전기세가 아깝다!!!    0.0   \n",
       "84781  8190719                                     tv 전기세가 아깝다!!!    0.0   \n",
       "84982  8984868  세계관이니 이해력의 문제가 아니다. 애초에 철학없이 그럴싸 한것만 나열해 놓구선, ...    0.0   \n",
       "85081  7485308                                         더럽게 재미없다..    0.0   \n",
       "85673  9458159  나는 희망한다. 나의 꿈을... 영화는 나에게 알게해줬다! 나의 마음속에 담겨져 있...    1.0   \n",
       "\n",
       "       str_len  \n",
       "4045      25.0  \n",
       "6402      15.0  \n",
       "6623      25.0  \n",
       "7353      10.0  \n",
       "7617      12.0  \n",
       "...        ...  \n",
       "84340     14.0  \n",
       "84781     14.0  \n",
       "84982     75.0  \n",
       "85081     10.0  \n",
       "85673     57.0  \n",
       "\n",
       "[205 rows x 4 columns]"
      ]
     },
     "execution_count": 72,
     "metadata": {},
     "output_type": "execute_result"
    }
   ],
   "source": [
    "index = train_data.index[train_data.index[train_data['document'].duplicated()] & train_data.index[train_data['document'].str.len() >= 10]]\n",
    "train_data.loc[index,:]"
   ]
  },
  {
   "cell_type": "code",
   "execution_count": 4,
   "metadata": {},
   "outputs": [],
   "source": [
    "def subset_duplicated(df_data):\n",
    "    indices = df_data.index[df_data.index[df_data['document'].duplicated()] & df_data.index[df_data['document'].str.len() >= 10]]\n",
    "    return df_data.drop(index = indices)\n",
    "\n",
    "def remove_nan(df_data):\n",
    "    null_index = df_data.index[df_data['document'].isnull()]\n",
    "    return df_data.drop(index = null_index)\n"
   ]
  },
  {
   "cell_type": "code",
   "execution_count": 24,
   "metadata": {},
   "outputs": [
    {
     "ename": "ModuleNotFoundError",
     "evalue": "No module named 'tensorflow'",
     "output_type": "error",
     "traceback": [
      "\u001b[0;31m---------------------------------------------------------------------------\u001b[0m",
      "\u001b[0;31mModuleNotFoundError\u001b[0m                       Traceback (most recent call last)",
      "Cell \u001b[0;32mIn[24], line 4\u001b[0m\n\u001b[1;32m      2\u001b[0m \u001b[39mfrom\u001b[39;00m \u001b[39mcollections\u001b[39;00m \u001b[39mimport\u001b[39;00m Counter\n\u001b[1;32m      3\u001b[0m \u001b[39mfrom\u001b[39;00m \u001b[39msklearn\u001b[39;00m\u001b[39m.\u001b[39;00m\u001b[39mmodel_selection\u001b[39;00m \u001b[39mimport\u001b[39;00m train_test_split\n\u001b[0;32m----> 4\u001b[0m \u001b[39mimport\u001b[39;00m \u001b[39mtensorflow\u001b[39;00m \u001b[39mas\u001b[39;00m \u001b[39mtf\u001b[39;00m\n\u001b[1;32m      6\u001b[0m tokenizer \u001b[39m=\u001b[39m Mecab()\n\u001b[1;32m      7\u001b[0m test \u001b[39m=\u001b[39m \u001b[39m\"\u001b[39m\u001b[39m 어떻게 되나 한 번 만들어 봅시다. test\u001b[39m\u001b[39m\"\u001b[39m\n",
      "\u001b[0;31mModuleNotFoundError\u001b[0m: No module named 'tensorflow'"
     ]
    }
   ],
   "source": [
    "from konlpy.tag import Mecab\n",
    "from collections import Counter\n",
    "from sklearn.model_selection import train_test_split\n",
    "\n",
    "tokenizer = Mecab()\n",
    "test = \" 어떻게 되나 한 번 만들어 봅시다. test\"\n",
    "tokenizer.morphs(test)"
   ]
  },
  {
   "cell_type": "code",
   "execution_count": 110,
   "metadata": {},
   "outputs": [
    {
     "name": "stdout",
     "output_type": "stream",
     "text": [
      "아 더빙 진짜 짜증나네요 목소리\n"
     ]
    },
    {
     "data": {
      "text/plain": [
       "'아 더빙 진짜 짜증나네요 목소리'"
      ]
     },
     "execution_count": 110,
     "metadata": {},
     "output_type": "execute_result"
    }
   ],
   "source": [
    "# emoji 참고: https://stackoverflow.com/questions/33404752/removing-emojis-from-a-string-in-python\n",
    "import re\n",
    "\n",
    "def preprocess_sentence(sentence):\n",
    "    sentence = sentence.lower().strip() # 1\n",
    "    sentence = re.sub(r\"([?.!,¿])\", r\" \\1 \", sentence) # 2\n",
    "    sentence = re.sub(r\"[a-zA-Z]+\", \" \", sentence)\n",
    "    sentence = re.sub(r\"[ㄱ-ㅎㅏ-ㅣ]+\", \" \", sentence) # 4\n",
    "    sentence = re.sub(r\"\\d+\", \" \", sentence) # 4\n",
    "    sentence = re.sub(\"\\.|\\,|\\-|\\~|\\!|\\?\", \"\", sentence)\n",
    "    sentence = re.sub(r'[\" \"]+', \" \", sentence) # 3\n",
    "    sentence = sentence.strip() # 5\n",
    "    return sentence\n",
    "    \n",
    "print(train_data['document'][0])\n",
    "preprocess_sentence('아 더빙.. 진짜 짜증나네요 목소리 kkk ㅏㅏㅏ ㅇㅇㅇ ~.,!? ... 12342 ㅗㅗㅗ')"
   ]
  },
  {
   "cell_type": "code",
   "execution_count": 107,
   "metadata": {},
   "outputs": [
    {
     "name": "stderr",
     "output_type": "stream",
     "text": [
      "/var/folders/l5/xccndwgd1qd4v2sfh261kbpm0000gn/T/ipykernel_69215/2519608704.py:2: SettingWithCopyWarning: \n",
      "A value is trying to be set on a copy of a slice from a DataFrame\n",
      "\n",
      "See the caveats in the documentation: https://pandas.pydata.org/pandas-docs/stable/user_guide/indexing.html#returning-a-view-versus-a-copy\n",
      "  train_data['document'][i] = preprocess_sentence(str(train_data['document'][i]))\n",
      "/var/folders/l5/xccndwgd1qd4v2sfh261kbpm0000gn/T/ipykernel_69215/2519608704.py:5: SettingWithCopyWarning: \n",
      "A value is trying to be set on a copy of a slice from a DataFrame\n",
      "\n",
      "See the caveats in the documentation: https://pandas.pydata.org/pandas-docs/stable/user_guide/indexing.html#returning-a-view-versus-a-copy\n",
      "  test_data['document'][j] = preprocess_sentence(str(test_data['document'][j]))\n"
     ]
    }
   ],
   "source": [
    "for i in range(len(train_data['document'])):\n",
    "    train_data['document'][i] = preprocess_sentence(str(train_data['document'][i]))\n",
    "\n",
    "for j in range(len(test_data['document'])):\n",
    "    test_data['document'][j] = preprocess_sentence(str(test_data['document'][j]))\n"
   ]
  },
  {
   "cell_type": "code",
   "execution_count": 108,
   "metadata": {},
   "outputs": [
    {
     "name": "stdout",
     "output_type": "stream",
     "text": [
      "         id                                           document  label  str_len\n",
      "0   9976970                                  아 더빙 진짜 짜증나네요 목소리    0.0     19.0\n",
      "1   3819312                       흠 포스터보고 초딩영화줄 오버연기조차 가볍지 않구나    1.0     33.0\n",
      "2  10265843                                  너무재밓었다그래서보는것을추천한다    0.0     17.0\n",
      "3   9045019                         교도소 이야기구먼 솔직히 재미는 없다 평점 조정    0.0     29.0\n",
      "4   6483659  사이몬페그의 익살스런 연기가 돋보였던 영화 스파이더맨에서 늙어보이기만 했던 커스틴 ...    1.0     61.0             id                                           document  label  \\\n",
      "85779  9922230                            김새론 연기 정말 잘하는구나 정말 슬픈영화    1.0   \n",
      "85780  7252911  남자의 순수한 사랑은 그럭저럭 괜찮지만 이를 받아드리는 여자가 생각만큼 이해되지 않...    0.0   \n",
      "85781  1086892                       어설픈 소재부터 마음에 안들더니 공포감도 안느껴진다    0.0   \n",
      "85782  8044826  와 연기력 연출 스토리 다 개판이네 정우 연기가 많이 늘었다고 새삼 느끼게된 영화 ...    0.0   \n",
      "85783  8859119                                                  흑    NaN   \n",
      "\n",
      "       str_len  \n",
      "85779     24.0  \n",
      "85780     91.0  \n",
      "85781     28.0  \n",
      "85782     59.0  \n",
      "85783      1.0  \n",
      "        id                                   document  label\n",
      "0  6270596                                          굳      1\n",
      "1  9274899                                                 0\n",
      "2  8544678           뭐야 이 평점들은 나쁘진 않지만 점 짜리는 더더욱 아니잖아      0\n",
      "3  6825595                  지루하지는 않은데 완전 막장임 돈주고 보기에는      0\n",
      "4  6723715  만 아니었어도 별 다섯 개 줬을텐데 왜 로 나와서 제 심기를 불편하게 하죠      0             id                                    document  label\n",
      "49995  4608761     오랜만에 평점 로긴했네 킹왕짱 쌈뽕한 영화를 만났습니다 강렬하게 육쾌함      1\n",
      "49996  5308387     의지 박약들이나 하는거다 탈영은 일단 주인공 김대희 닮았고 이등병 찐따      0\n",
      "49997  9072549             그림도 좋고 완성도도 높았지만 보는 내내 불안하게 만든다      0\n",
      "49998  5802125  절대 봐서는 안 될 영화 재미도 없고 기분만 잡치고 한 세트장에서 다 해먹네      0\n",
      "49999  6070594                                  마무리는 또 왜이래      0\n"
     ]
    }
   ],
   "source": [
    "print(train_data.head(), train_data.tail())\n",
    "print(test_data.head(), test_data.tail())"
   ]
  },
  {
   "cell_type": "code",
   "execution_count": 111,
   "metadata": {},
   "outputs": [],
   "source": [
    "train_data.to_pickle('./data/proj_8/230112_train_data.pkl')\n",
    "test_data.to_pickle('./data/proj_8/230112_test_data.pkl')"
   ]
  },
  {
   "cell_type": "code",
   "execution_count": 6,
   "metadata": {},
   "outputs": [],
   "source": [
    "train_data = pd.read_pickle('./data/proj_8/230112_train_data.pkl')\n",
    "test_data = pd.read_pickle('./data/proj_8/230112_test_data.pkl')"
   ]
  },
  {
   "cell_type": "code",
   "execution_count": 18,
   "metadata": {},
   "outputs": [
    {
     "name": "stdout",
     "output_type": "stream",
     "text": [
      "문장길이 평균 :  7.738282861014553\n",
      "문장길이 최대 :  42\n",
      "문장길이 표준편차 :  6.684278717158282\n",
      "pad_sequences maxlen :  21\n",
      "전체 문장의 0.9386083780121369%가 maxlen 설정값 이내에 포함됩니다. \n"
     ]
    }
   ],
   "source": [
    "total_data_text = list(train_data['document']) + list(test_data['document'])\n",
    "token_len_lst = [len(tokens.split()) for tokens in total_data_text]\n",
    "\n",
    "num_tokens = np.array(token_len_lst)\n",
    "# 문장길이의 평균값, 최대값, 표준편차를 계산해 본다. \n",
    "print('문장길이 평균 : ', np.mean(num_tokens))\n",
    "print('문장길이 최대 : ', np.max(num_tokens))\n",
    "print('문장길이 표준편차 : ', np.std(num_tokens))\n",
    "\n",
    "# 예를들어, 최대 길이를 (평균 + 2*표준편차)로 한다면,  \n",
    "max_tokens = np.mean(num_tokens) + 2 * np.std(num_tokens)\n",
    "maxlen = int(max_tokens)\n",
    "print('pad_sequences maxlen : ', maxlen)\n",
    "print('전체 문장의 {}%가 maxlen 설정값 이내에 포함됩니다. '.format(np.sum(num_tokens < max_tokens) / len(num_tokens)))"
   ]
  },
  {
   "cell_type": "code",
   "execution_count": 19,
   "metadata": {},
   "outputs": [],
   "source": [
    "# 문장 1개를 활용할 딕셔너리와 함께 주면, 단어 인덱스 리스트 벡터로 변환해 주는 함수입니다. \n",
    "# 단, 모든 문장은 <BOS>로 시작하는 것으로 합니다. \n",
    "def get_encoded_sentence(sentence, word_to_index):\n",
    "    return [word_to_index['<BOS>']]+[word_to_index[word] if word in word_to_index else word_to_index['<UNK>'] for word in sentence.split()]\n",
    "\n",
    "# 여러 개의 문장 리스트를 한꺼번에 단어 인덱스 리스트 벡터로 encode해 주는 함수입니다. \n",
    "def get_encoded_sentences(sentences, word_to_index):\n",
    "    return [get_encoded_sentence(sentence, word_to_index) for sentence in sentences]\n",
    "\n",
    "# 숫자 벡터로 encode된 문장을 원래대로 decode하는 함수입니다. \n",
    "def get_decoded_sentence(encoded_sentence, index_to_word):\n",
    "    return ' '.join(index_to_word[index] if index in index_to_word else '<UNK>' for index in encoded_sentence[1:])  #[1:]를 통해 <BOS>를 제외\n",
    "\n",
    "# 여러 개의 숫자 벡터로 encode된 문장을 한꺼번에 원래대로 decode하는 함수입니다. \n",
    "def get_decoded_sentences(encoded_sentences, index_to_word):\n",
    "    return [get_decoded_sentence(encoded_sentence, index_to_word) for encoded_sentence in encoded_sentences]"
   ]
  },
  {
   "cell_type": "code",
   "execution_count": 7,
   "metadata": {},
   "outputs": [
    {
     "name": "stderr",
     "output_type": "stream",
     "text": [
      "/var/folders/l5/xccndwgd1qd4v2sfh261kbpm0000gn/T/ipykernel_73506/3481007976.py:2: FutureWarning: Index.__and__ operating as a set operation is deprecated, in the future this will be a logical operation matching Series.__and__.  Use index.intersection(other) instead.\n",
      "  indices = df_data.index[df_data.index[df_data['document'].duplicated()] & df_data.index[df_data['document'].str.len() >= 10]]\n"
     ]
    },
    {
     "ename": "TypeError",
     "evalue": "'method' object is not subscriptable",
     "output_type": "error",
     "traceback": [
      "\u001b[0;31m---------------------------------------------------------------------------\u001b[0m",
      "\u001b[0;31mTypeError\u001b[0m                                 Traceback (most recent call last)",
      "Cell \u001b[0;32mIn[7], line 55\u001b[0m\n\u001b[1;32m     51\u001b[0m     \u001b[39mreturn\u001b[39;00m X_train, y_train, X_test, y_test, word_to_index\n\u001b[1;32m     53\u001b[0m stopwords \u001b[39m=\u001b[39m [\u001b[39m'\u001b[39m\u001b[39m의\u001b[39m\u001b[39m'\u001b[39m,\u001b[39m'\u001b[39m\u001b[39m가\u001b[39m\u001b[39m'\u001b[39m,\u001b[39m'\u001b[39m\u001b[39m이\u001b[39m\u001b[39m'\u001b[39m,\u001b[39m'\u001b[39m\u001b[39m은\u001b[39m\u001b[39m'\u001b[39m,\u001b[39m'\u001b[39m\u001b[39m들\u001b[39m\u001b[39m'\u001b[39m,\u001b[39m'\u001b[39m\u001b[39m는\u001b[39m\u001b[39m'\u001b[39m,\u001b[39m'\u001b[39m\u001b[39m좀\u001b[39m\u001b[39m'\u001b[39m,\u001b[39m'\u001b[39m\u001b[39m잘\u001b[39m\u001b[39m'\u001b[39m,\u001b[39m'\u001b[39m\u001b[39m걍\u001b[39m\u001b[39m'\u001b[39m,\u001b[39m'\u001b[39m\u001b[39m과\u001b[39m\u001b[39m'\u001b[39m,\u001b[39m'\u001b[39m\u001b[39m도\u001b[39m\u001b[39m'\u001b[39m,\u001b[39m'\u001b[39m\u001b[39m를\u001b[39m\u001b[39m'\u001b[39m,\u001b[39m'\u001b[39m\u001b[39m으로\u001b[39m\u001b[39m'\u001b[39m,\u001b[39m'\u001b[39m\u001b[39m자\u001b[39m\u001b[39m'\u001b[39m,\u001b[39m'\u001b[39m\u001b[39m에\u001b[39m\u001b[39m'\u001b[39m,\u001b[39m'\u001b[39m\u001b[39m와\u001b[39m\u001b[39m'\u001b[39m,\u001b[39m'\u001b[39m\u001b[39m한\u001b[39m\u001b[39m'\u001b[39m,\u001b[39m'\u001b[39m\u001b[39m하다\u001b[39m\u001b[39m'\u001b[39m]\n\u001b[0;32m---> 55\u001b[0m X_train, y_train, X_test, y_test, word_to_index \u001b[39m=\u001b[39m load_data(train_data, test_data, stopwords)\n",
      "Cell \u001b[0;32mIn[7], line 16\u001b[0m, in \u001b[0;36mload_data\u001b[0;34m(train_data, test_data, stopwords)\u001b[0m\n\u001b[1;32m     14\u001b[0m df_test_data \u001b[39m=\u001b[39m df_test_data\u001b[39m.\u001b[39mreset_index\n\u001b[1;32m     15\u001b[0m \u001b[39m#3. tokenize\u001b[39;00m\n\u001b[0;32m---> 16\u001b[0m train_corpus \u001b[39m=\u001b[39m \u001b[39m'\u001b[39m\u001b[39m \u001b[39m\u001b[39m'\u001b[39m\u001b[39m.\u001b[39mjoin(df_train_data[\u001b[39m'\u001b[39;49m\u001b[39mdocument\u001b[39;49m\u001b[39m'\u001b[39;49m]\u001b[39m.\u001b[39mto_list())\n\u001b[1;32m     17\u001b[0m train_tokens \u001b[39m=\u001b[39m tokenizer\u001b[39m.\u001b[39mmorphs(train_corpus)\n\u001b[1;32m     18\u001b[0m \u001b[39m#4. Stopwords제거 사전\u001b[39;00m\n",
      "\u001b[0;31mTypeError\u001b[0m: 'method' object is not subscriptable"
     ]
    }
   ],
   "source": [
    "\n",
    "def load_data(train_data, test_data, stopwords, max_len):\n",
    "    tokenizer = Mecab()\n",
    "    #1. 데이터 중복 제거\n",
    "        # - 데이터 확인 결과 id 값은 중복이 없으나, 리뷰 내용은 중복이 있는 것으로 판단\n",
    "        # - 그러나 최고, 쵝오, 굿굿, 좋아요 등 짧은 내용의 중복이 많아 이 경우 반드시 같은 사람이 중복으로 썼을 것인가에 대한 판단이 어려움\n",
    "        # - 길이가 10이상인데도 불구하고 같은 리뷰가 있다면, 단순 복사 붙여넣기 인 것으로 판단하여 제거하기로 결정.\n",
    "    df_train_data = subset_duplicated(train_data)\n",
    "    df_test_data = subset_duplicated(test_data)\n",
    "    #2. NaN 결측치 제거\n",
    "    df_train_data = remove_nan(df_train_data)\n",
    "    df_test_data = remove_nan(df_test_data)\n",
    "\n",
    "    df_train_data = df_train_data.reset_index\n",
    "    df_test_data = df_test_data.reset_index\n",
    "    #3. tokenize\n",
    "    corpus = \" \".join(train_data['document'].to_list()) + \" \".join(test_data['document'].to_list())\n",
    "    tokens = tokenizer.morphs(corpus)\n",
    "    #4. Stopwords제거 사전\n",
    "    for sentence_i in range(len(df_train_data['document'])): \n",
    "        result = [] \n",
    "        tokens = tokenizer.morphs(df_train_data['document'][sentence_i])\n",
    "        for w in tokens:\n",
    "            if w not in stopwords: \n",
    "                result.append(w) \n",
    "        df_train_data['document'][sentence_i] = \" \".join(result)\n",
    "    \n",
    "    for sentence_j in range(len(df_test_data['document'])): \n",
    "        result = [] \n",
    "        tokens = tokenizer.morphs(df_test_data['document'][sentence_j])\n",
    "        for w in tokens:\n",
    "            if w not in stopwords: \n",
    "                result.append(w) \n",
    "        df_test_data['document'][sentence_j] = \" \".join(result)\n",
    "    \n",
    "    #4. word_to_index구성텍스트 스트링을 사전인덱스 스트링으로 변환\n",
    "    unique_tokens = set(tokens)\n",
    "    index_to_word = {}\n",
    "    index_to_word[0] = '<PAD>'\n",
    "    index_to_word[1] = '<BOS>'\n",
    "    index_to_word[2] = '<UNK>'\n",
    "    for i in range(3,len(unique_tokens)):\n",
    "        index_to_word[i] = unique_tokens[i]\n",
    "    word_to_index = {word:index for index, word in index_to_word.items()}    \n",
    "            \n",
    "    #5. 데이터 split(X_train, y_train, X_test, y_test)\n",
    "    X_train = df_train_data['document']\n",
    "    X_train = tf.keras.preprocessing.sequence.pad_sequences(X_train,\n",
    "                                                            value=word_to_index[\"<PAD>\"],\n",
    "                                                            padding='pre', # 혹은 'post'\n",
    "                                                            maxlen=maxlen)\n",
    "\n",
    "    X_test = df_test_data['document']\n",
    "    X_test = tf.keras.preprocessing.sequence.pad_sequences(X_test,\n",
    "                                                        value=word_to_index[\"<PAD>\"],\n",
    "                                                        padding='pre', # 혹은 'post'\n",
    "                                                        maxlen=maxlen)\n",
    "\n",
    "    \n",
    "    y_train = df_train_data['label']\n",
    "    y_test = df_test_data['label']\n",
    "\n",
    "    return X_train, y_train, X_test, y_test, word_to_index\n",
    "\n",
    "stopwords = ['의','가','이','은','들','는','좀','잘','걍','과','도','를','으로','자','에','와','한','하다']\n",
    "\n",
    "X_train, y_train, X_test, y_test, word_to_index = load_data(train_data, test_data, stopwords, max_len)"
   ]
  },
  {
   "cell_type": "code",
   "execution_count": 4,
   "metadata": {},
   "outputs": [],
   "source": []
  },
  {
   "cell_type": "markdown",
   "metadata": {},
   "source": [
    "3) 모델 구성을 위한 데이터 분석 및 가공\n",
    "데이터셋 내 문장 길이 분포\n",
    "적절한 최대 문장 길이 지정\n",
    "keras.preprocessing.sequence.pad_sequences 을 활용한 패딩 추가\n"
   ]
  },
  {
   "attachments": {},
   "cell_type": "markdown",
   "metadata": {},
   "source": [
    "4) 모델 구성 및 validation set 구성\n",
    "모델은 3가지 이상 다양하게 구성하여 실험해 보세요.\n",
    "\n"
   ]
  },
  {
   "attachments": {},
   "cell_type": "markdown",
   "metadata": {},
   "source": [
    "5) 모델 훈련 개시\n"
   ]
  },
  {
   "attachments": {},
   "cell_type": "markdown",
   "metadata": {},
   "source": [
    "6) Loss, Accuracy 그래프 시각화\n"
   ]
  },
  {
   "attachments": {},
   "cell_type": "markdown",
   "metadata": {},
   "source": [
    "7) 학습된 Embedding 레이어 분석\n"
   ]
  },
  {
   "attachments": {},
   "cell_type": "markdown",
   "metadata": {},
   "source": [
    "8) 한국어 Word2Vec 임베딩 활용하여 성능 개선\n"
   ]
  },
  {
   "attachments": {},
   "cell_type": "markdown",
   "metadata": {},
   "source": [
    "한국어 Word2Vec은 /data 폴더 안에 있는 word2vec_ko.model을 활용하세요.\n",
    "한국어 Word2Vec을 활용할 때는 load_word2vec_format() 형태가 아닌 load() 형태로 모델을 불러와주세요. 또한 모델을 활용할 때에는 아래 예시와 같이 .wv를 붙여서 활용합니다. 좀더 자세한 활용법에 대해선 다음 링크들을 참조해주세요. \n",
    "- [참고 링크1](https://radimrehurek.com/gensim/auto_examples/tutorials/run_word2vec.html#storing-and-loading-models)\n",
    "- [참고 링크2](https://radimrehurek.com/gensim/models/keyedvectors.html)"
   ]
  },
  {
   "attachments": {},
   "cell_type": "markdown",
   "metadata": {},
   "source": [
    "```python\n",
    "from gensim.models.keyedvectors import Word2VecKeyedVectors\n",
    "word_vectors = Word2VecKeyedVectors.load(word2vec_file_path)\n",
    "vector = word_vectors.wv\n",
    "```\n",
    "[‘끝’]"
   ]
  }
 ],
 "metadata": {
  "kernelspec": {
   "display_name": "nlp",
   "language": "python",
   "name": "python3"
  },
  "language_info": {
   "codemirror_mode": {
    "name": "ipython",
    "version": 3
   },
   "file_extension": ".py",
   "mimetype": "text/x-python",
   "name": "python",
   "nbconvert_exporter": "python",
   "pygments_lexer": "ipython3",
   "version": "3.10.8"
  },
  "orig_nbformat": 4,
  "vscode": {
   "interpreter": {
    "hash": "a5b1248a002e9b81294912cc256278627914d9b6d92c8aa226ad83c70c866927"
   }
  }
 },
 "nbformat": 4,
 "nbformat_minor": 2
}
