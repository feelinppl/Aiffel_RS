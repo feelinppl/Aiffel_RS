{
 "cells": [
  {
   "cell_type": "markdown",
   "id": "40ceb1c2-3846-404d-aa4a-d943fc77e5a5",
   "metadata": {},
   "source": [
    "<h1><center> EXPL Project4 ARIMA </center></h1>\n",
    "<h1><center>Project4 : Predicting Stock Price</center></h1>"
   ]
  },
  {
   "cell_type": "markdown",
   "id": "1a025f45-de86-4bc0-ba89-4d6b30abd96f",
   "metadata": {},
   "source": [
    "- [Yahoo Stock Price Data Set](https://finance.yahoo.com/)\n",
    "- file name: 005930.KS.csv, it's already in your data folder"
   ]
  },
  {
   "cell_type": "markdown",
   "id": "212a23be-a972-4aea-b886-e3e809db4c79",
   "metadata": {},
   "source": [
    "# module importing and version checking"
   ]
  },
  {
   "cell_type": "code",
   "execution_count": 1,
   "id": "0d09bdc5-c539-42ca-9bcf-e5b6bd746a1b",
   "metadata": {},
   "outputs": [
    {
     "name": "stdout",
     "output_type": "stream",
     "text": [
      "1.5.2\n",
      "1.1.3\n",
      "0.13.2\n"
     ]
    }
   ],
   "source": [
    "import pandas\n",
    "import sklearn\n",
    "import statsmodels\n",
    "\n",
    "print(pandas.__version__)\n",
    "print(sklearn.__version__)\n",
    "print(statsmodels.__version__)"
   ]
  },
  {
   "cell_type": "markdown",
   "id": "ab05ab01-a923-4f6b-a272-0e7c94b1ef2f",
   "metadata": {},
   "source": [
    "## 시계열 데이터 준비\n",
    "\n",
    "- 칼럼 종류: Date, Open, High, Low, Close, Adj Close, Volume\n",
    "- 날짜별로 시작가(Open), 최고가(High), 최저가(Low), 종가(Close), 수정종가(Adj Close), 거래량(Volume)이 저장되어 있는 것을 확인할 수 있습니다.\n",
    "- 우리는 종가(Close)만 사용하겠습니다. (주식 시장은 정해진 시간 동안만 거래가 가능합니다. 종가란 하루의 장이 마감하였을 때의 가격입니다.)\n"
   ]
  },
  {
   "cell_type": "code",
   "execution_count": 5,
   "id": "0e492f3c-1b49-4f60-9753-67a4d4c496fa",
   "metadata": {},
   "outputs": [],
   "source": [
    "import numpy as np\n",
    "import pandas as pd\n",
    "import matplotlib.pyplot as plt\n",
    "import os\n",
    "\n",
    "# Time Series 생성\n",
    "# [[YOUR CODE]]\n",
    "\n",
    "# ts.head()"
   ]
  },
  {
   "cell_type": "markdown",
   "id": "c7bab0c4-74ef-4a70-ad13-0e11d0dedb08",
   "metadata": {},
   "source": [
    "## 각종 전처리 수행\n",
    "- 결측치 처리\n",
    "- 로그 변환"
   ]
  },
  {
   "cell_type": "code",
   "execution_count": 6,
   "id": "89e4abea-1055-48e8-a33c-ee386b78877f",
   "metadata": {},
   "outputs": [
    {
     "ename": "NameError",
     "evalue": "name 'ts' is not defined",
     "output_type": "error",
     "traceback": [
      "\u001b[0;31m---------------------------------------------------------------------------\u001b[0m",
      "\u001b[0;31mNameError\u001b[0m                                 Traceback (most recent call last)",
      "Cell \u001b[0;32mIn [6], line 3\u001b[0m\n\u001b[1;32m      1\u001b[0m \u001b[38;5;66;03m# 결측치 처리\u001b[39;00m\n\u001b[1;32m      2\u001b[0m \u001b[38;5;66;03m# [[YOUR CODE]]\u001b[39;00m\n\u001b[0;32m----> 3\u001b[0m \u001b[43mts\u001b[49m[ts\u001b[38;5;241m.\u001b[39misna()]\n",
      "\u001b[0;31mNameError\u001b[0m: name 'ts' is not defined"
     ]
    }
   ],
   "source": [
    "# 결측치 처리\n",
    "# [[YOUR CODE]]\n",
    "ts[ts.isna()]  # Time Series에서 결측치가 있는 부분만 Series로 출력합니다."
   ]
  },
  {
   "cell_type": "code",
   "execution_count": null,
   "id": "8e5d2115-19b0-4b38-b2fa-4ec69cc3c934",
   "metadata": {},
   "outputs": [],
   "source": [
    "# 로그 변환\n",
    "# [[YOUR CODE]]"
   ]
  },
  {
   "cell_type": "markdown",
   "id": "e31d3c48-e375-45b9-9de6-19a8965cf526",
   "metadata": {},
   "source": [
    "## 시계열 안정성 분석\n",
    "- 정성적 그래프 분석\n",
    "- 정량적 Augmented Dicky-Fuller Test\n",
    "- 시계열 분해(Time Series Decomposition)\n",
    "- Residual 안정성 확인"
   ]
  },
  {
   "cell_type": "code",
   "execution_count": null,
   "id": "18ef0ad6-b13a-47bb-b98d-de8e91747f53",
   "metadata": {},
   "outputs": [],
   "source": [
    "# 정성적 그래프 분석\n",
    "plot_rolling_statistics(ts_log, window=12)\n",
    "\n",
    "#정량적 Augmented Dicky-Fuller Test\n",
    "augmented_dickey_fuller_test(ts_log)\n",
    "\n",
    "#시계열 분해 (Time Series Decomposition)\n",
    "from statsmodels.tsa.seasonal import seasonal_decompose\n",
    "decomposition = seasonal_decompose(ts_log, model='multiplicative', period = 30) \n",
    "# [[YOUR CODE]]"
   ]
  },
  {
   "cell_type": "markdown",
   "id": "c000a155-d498-4f06-aa2b-3ecf527b5160",
   "metadata": {
    "jp-MarkdownHeadingCollapsed": true,
    "tags": []
   },
   "source": [
    "# Residual 안정성 확인\n",
    "# [[YOUR CODE]]"
   ]
  },
  {
   "cell_type": "markdown",
   "id": "49e8b823-ba6d-4fcc-b7c8-ac7b30c11045",
   "metadata": {
    "jp-MarkdownHeadingCollapsed": true,
    "tags": []
   },
   "source": [
    "## 학습, 테스트 데이터셋 생성\n",
    "- 학습, 테스트 데이터셋 분리"
   ]
  },
  {
   "cell_type": "code",
   "execution_count": 8,
   "id": "b212de3b-04bd-4804-a071-7e54ed398fda",
   "metadata": {},
   "outputs": [
    {
     "ename": "SyntaxError",
     "evalue": "invalid syntax (4045190937.py, line 1)",
     "output_type": "error",
     "traceback": [
      "\u001b[0;36m  Cell \u001b[0;32mIn [8], line 1\u001b[0;36m\u001b[0m\n\u001b[0;31m    train_data, test_data = # [[YOUR CODE]]\u001b[0m\n\u001b[0m                            ^\u001b[0m\n\u001b[0;31mSyntaxError\u001b[0m\u001b[0;31m:\u001b[0m invalid syntax\n"
     ]
    }
   ],
   "source": [
    "train_data, test_data = # [[YOUR CODE]]"
   ]
  },
  {
   "cell_type": "markdown",
   "id": "32385fcc-7919-4386-93cd-c237885a8d58",
   "metadata": {},
   "source": [
    "## 적정 ARIMA 모수 찾기\n",
    "- ACF, PACF 그려보기 -> p,q 구하기\n",
    "- 차분 안정성 확인 -> d 구하기"
   ]
  },
  {
   "cell_type": "markdown",
   "id": "d76ce909-7c4e-4d2f-be25-94e55d0f733f",
   "metadata": {},
   "source": [
    "## ARIMA 모델 훈련과 테스트\n",
    "- ARIMA 모델 빌드와 훈련\n",
    "- 모델 테스트 및 플로팅\n",
    "- 최종 예측 모델 정확도 측정(MAPE)"
   ]
  },
  {
   "cell_type": "markdown",
   "id": "fbe70e61-0a6e-4f9a-ae41-74ebbfb815f8",
   "metadata": {},
   "source": [
    "## 다른 주식 종목 예측해 보기\n",
    "- 관심 종목을 골라 위 STEP 1~6의 과정을 반복해 보기"
   ]
  },
  {
   "cell_type": "code",
   "execution_count": null,
   "id": "1ba2f30e-479a-4365-946f-4f8485129feb",
   "metadata": {},
   "outputs": [],
   "source": []
  }
 ],
 "metadata": {
  "kernelspec": {
   "display_name": "AIFFEL",
   "language": "python",
   "name": "aiffel_rs"
  },
  "language_info": {
   "codemirror_mode": {
    "name": "ipython",
    "version": 3
   },
   "file_extension": ".py",
   "mimetype": "text/x-python",
   "name": "python",
   "nbconvert_exporter": "python",
   "pygments_lexer": "ipython3",
   "version": "3.10.8"
  }
 },
 "nbformat": 4,
 "nbformat_minor": 5
}
