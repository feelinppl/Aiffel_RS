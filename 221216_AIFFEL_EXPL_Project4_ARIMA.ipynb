{
 "cells": [
  {
   "cell_type": "markdown",
   "id": "40ceb1c2-3846-404d-aa4a-d943fc77e5a5",
   "metadata": {},
   "source": [
    "<h1><center> EXPL Project4 ARIMA </center></h1>\n",
    "<h1><center>Project4 : Predicting Stock Price</center></h1>"
   ]
  },
  {
   "cell_type": "markdown",
   "id": "1a025f45-de86-4bc0-ba89-4d6b30abd96f",
   "metadata": {},
   "source": [
    "- [Yahoo Stock Price Data Set](https://finance.yahoo.com/)\n",
    "- file name: 005930.KS.csv, it's already in your data folder"
   ]
  },
  {
   "cell_type": "markdown",
   "id": "212a23be-a972-4aea-b886-e3e809db4c79",
   "metadata": {},
   "source": [
    "# module importing and version checking"
   ]
  },
  {
   "cell_type": "code",
   "execution_count": 1,
   "id": "0d09bdc5-c539-42ca-9bcf-e5b6bd746a1b",
   "metadata": {},
   "outputs": [
    {
     "name": "stdout",
     "output_type": "stream",
     "text": [
      "1.5.2\n",
      "1.1.3\n",
      "0.13.2\n"
     ]
    }
   ],
   "source": [
    "import pandas\n",
    "import sklearn\n",
    "import statsmodels\n",
    "\n",
    "print(pandas.__version__)\n",
    "print(sklearn.__version__)\n",
    "print(statsmodels.__version__)"
   ]
  },
  {
   "cell_type": "markdown",
   "id": "ab05ab01-a923-4f6b-a272-0e7c94b1ef2f",
   "metadata": {},
   "source": [
    "## 시계열 데이터 준비\n",
    "\n",
    "- 칼럼 종류: Date, Open, High, Low, Close, Adj Close, Volume\n",
    "- 날짜별로 시작가(Open), 최고가(High), 최저가(Low), 종가(Close), 수정종가(Adj Close), 거래량(Volume)이 저장되어 있는 것을 확인할 수 있습니다.\n",
    "- 우리는 종가(Close)만 사용하겠습니다. (주식 시장은 정해진 시간 동안만 거래가 가능합니다. 종가란 하루의 장이 마감하였을 때의 가격입니다.)\n"
   ]
  },
  {
   "cell_type": "code",
   "execution_count": null,
   "id": "0e492f3c-1b49-4f60-9753-67a4d4c496fa",
   "metadata": {},
   "outputs": [],
   "source": [
    "import numpy as np\n",
    "import pandas as pd\n",
    "import matplotlib.pyplot as plt\n",
    "import os\n",
    "\n",
    "# Time Series 생성\n",
    "# [[YOUR CODE]]\n",
    "\n",
    "ts.head()"
   ]
  }
 ],
 "metadata": {
  "kernelspec": {
   "display_name": "AIFFEL",
   "language": "python",
   "name": "aiffel_rs"
  },
  "language_info": {
   "codemirror_mode": {
    "name": "ipython",
    "version": 3
   },
   "file_extension": ".py",
   "mimetype": "text/x-python",
   "name": "python",
   "nbconvert_exporter": "python",
   "pygments_lexer": "ipython3",
   "version": "3.10.8"
  }
 },
 "nbformat": 4,
 "nbformat_minor": 5
}
