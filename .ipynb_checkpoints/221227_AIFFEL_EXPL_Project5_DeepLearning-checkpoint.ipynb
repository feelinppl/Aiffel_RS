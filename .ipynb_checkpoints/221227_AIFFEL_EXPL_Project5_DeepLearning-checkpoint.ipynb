{
 "cells": [
  {
   "cell_type": "markdown",
   "id": "4ce17ebf-41f8-4d4d-9354-4d0c48625acf",
   "metadata": {},
   "source": [
    "# <center>Deep Learning(Rock Scissors Paper)</center>"
   ]
  },
  {
   "cell_type": "markdown",
   "id": "7002370d-b900-485b-9125-e23ce60fb728",
   "metadata": {
    "tags": []
   },
   "source": [
    "## 데이터를 준비하자\n",
    "---\n",
    ">웹캠이 없다면?\n",
    ">\n",
    ">일단은 아래 내용을 쭉 읽고 숙지해주세요! 웹캠이 없는 경우 라는 토글에서 기다리고 있겠습니다. 물론 웹캠이 있다면 꼭 아래 내용을 따라해주세요\n",
    "\n",
    "데이터 만들기\n",
    "\n",
    "(1) 우리는 노트북 전면 카메라를 활용하여 가위, 바위, 보 이미지 각 100장을 만들어 볼거예요. 그런데 300장을 어느 세월에 만들까요?\n"
   ]
  },
  {
   "cell_type": "markdown",
   "id": "36a9ac03-a9b4-477a-a8bc-742465b4a2cb",
   "metadata": {},
   "source": [
    "걱정하지 마세요. 구글의 teachable machine 사이트에서 쉽게 데이터를 만들어볼 수 있습니다. 아래 사이트에서 Get Started 버튼을 눌러보세요. 그 다음, Image Project - Standard image model을 선택하면, Webcam을 구동해 클래스별 이미지 데이터를 직접 촬영해서 만들 수 있는 멋진 화면이 나타납니다.\n",
    "\n",
    "- https://teachablemachine.withgoogle.com/\n",
    "\n",
    "(2) 먼저 가위 이미지 데이터를 만들어 봅시다. 웹캠 앞에 가위 포즈를 취하면서 <Hold to Record> 버튼을 누르면 이미지가 캡쳐됩니다. 딥러닝 모델이 인식하기 좋게끔 여러분들 손이 잘 보이게 찍어주세요.\n",
    "\n",
    "- 여러 각도에서 찍어보세요.\n",
    "- 여러 크기로 찍어보세요.\n",
    "- 혼자하면 다양한 각도와 크기를 저장할 수 없으니, 옆 동료와 함께 하세요.\n",
    "- 좋은 데이터가 좋은 결과를 낳는다는 것을 꼭 기억하세요.\n",
    "\n",
    "![image](https://d3s0tskafalll9.cloudfront.net/media/images/E-1-9.max-800x600.png)\n"
   ]
  },
  {
   "cell_type": "markdown",
   "id": "9eafc2cc-0bda-4c49-80d1-3de40edce8e3",
   "metadata": {},
   "source": [
    "주의 만약 웹캠 사용 버튼을 눌렀을 때 아래 화면처럼 에러가 난다면, 브라우저에서 웹캠을 사용할 수 있는 권한을 허용해 주어야 합니다."
   ]
  },
  {
   "cell_type": "markdown",
   "id": "d72e7a59-40ab-41bc-bbb8-67c994b2b1dc",
   "metadata": {},
   "source": [
    "![image](https://d3s0tskafalll9.cloudfront.net/media/images/E-1-10.max-800x600.png)"
   ]
  },
  {
   "cell_type": "markdown",
   "id": "5a48bc26-9986-4bed-b493-093083b6a35d",
   "metadata": {},
   "source": [
    "(3) 100장의 가위 이미지를 캡쳐했다면, 우상단의 메뉴 아이콘을 눌러 다운로드 합니다.\n",
    "![image](https://d3s0tskafalll9.cloudfront.net/media/original_images/E-1-11.png)\n",
    "\n",
    "(4) 가위 이미지들을 \"scissor.zip\"이라는 파일 이름으로 본인 컴퓨터에 저장해주세요. 바위와 보 이미지들에 대해서도 위 과정을 진행하세요. (각각 \"rock.zip\", \"paper.zip\" 이름으로 저장해주세요.)\n",
    "\n",
    "디렉토리 만들기\n",
    "이제 클라우드에 실습용 디렉토리 rock_scissor_paper 및 하위 디렉토리들을 만들어, 데이터셋을 올릴 차례입니다!\n",
    "\n",
    ">토막 리눅스 사용법\n",
    ">\n",
    ">mkdir -p : mkdir를 사용하여 하위 디렉토리를 생성할때 차례대로 만들지 않고 중간 디렉토리 없이 바로 그 다음 하위 디렉토리를 만들게되면 \"디렉토리를 생성할 수 없습니다.\" 라는 메시지가 나오는데, -p 옵션을 주어 생성하게 되면 자동으로 중간 단계의 디렉토리를 생성하면서 그 하위 디렉토리를 생성하게 됩니다."
   ]
  },
  {
   "cell_type": "markdown",
   "id": "0209a89b-ea54-45f0-b60f-8348e6b3f4f2",
   "metadata": {},
   "source": [
    "이미지 업로드 방법\n",
    "\n",
    "1. 오른쪽 메뉴에서 Cloud Jupyter를 열어주세요.\n",
    "2. rock.zip을 올리고 싶다면 rock_scissor_paper/rock 디렉토리로 이동 후, Upload버튼을 눌러주세요. 드래그 앤 드롭도 가능합니다.\n",
    "3. 가위와 보 데이터셋에 대해서도 위 과정을 진행해주세요.\n",
    "\n",
    "여기까지 성공하셨다면 아래와 같은 구조를 갖고 있을 것입니다."
   ]
  },
  {
   "cell_type": "markdown",
   "id": "ce85b2c4-e933-46a0-9b70-330ec3718cc6",
   "metadata": {},
   "source": [
    "**데이터 불러오기 + Resize 하기**\n",
    "\n",
    "(5) 숫자 손글씨의 경우 이미지 크기가 28x28 이었기 때문에, 우리의 가위, 바위, 보 이미지도 28x28로 만들어야 합니다. 이를 위해서는 PIL 라이브러리를 사용해볼 거예요. 그러려면 먼저 라이브러리를 불러와야 겠죠?"
   ]
  },
  {
   "cell_type": "code",
   "execution_count": 36,
   "id": "84cc260a-4d7c-47ab-9b70-a277465f5d9f",
   "metadata": {},
   "outputs": [
    {
     "name": "stdout",
     "output_type": "stream",
     "text": [
      "2.9.0\n",
      "1.24.1\n"
     ]
    }
   ],
   "source": [
    "import tensorflow as tf\n",
    "import numpy as np\n",
    "import warnings\n",
    "import matplotlib.pyplot as plt\n",
    "warnings.filterwarnings('ignore')\n",
    "\n",
    "import PIL\n",
    "from PIL import Image, ImageEnhance\n",
    "import glob\n",
    "import os\n",
    "\n",
    "print(tf.__version__)\n",
    "print(np.__version__)"
   ]
  },
  {
   "cell_type": "markdown",
   "id": "9d1a7efb-b9da-4316-8c58-f06c82d3abb5",
   "metadata": {},
   "source": [
    "이제 가위 이미지를 불러와서 28x28 사이즈로 변경할 겁니다. 아래 코드를 실행해보세요. 이미지의 크기가 28x28 로 바뀌었나요?<br>\n",
    "**--> 112 x 112 사이즈로 변경 및 kaggle의 가위바위보 png 분류 데이터 사용으로 변경**"
   ]
  },
  {
   "cell_type": "code",
   "execution_count": 54,
   "id": "fdc9c39e-bb71-4951-86b1-ff499bf65b53",
   "metadata": {},
   "outputs": [],
   "source": [
    "# 색 반전 참고: https://intrepidgeeks.com/tutorial/method-of-inverting-image-color-using-pil-python-imaging\n",
    "# greyscale 참고: \n",
    "def resize_images(img_path):\n",
    "    images=glob.glob(img_path + \"/*.png\")  \n",
    "    print(len(images), \" images to be resized.\")\n",
    "\n",
    "    # 파일마다 모두 112*112 사이즈로 바꾸어 저장합니다.\n",
    "    target_size=(112,112)\n",
    "    \n",
    "    for img in images:\n",
    "        old_img = Image.open(img)\n",
    "        new_img = old_img.resize(target_size,Image.ANTIALIAS)\n",
    "        new_img = new_img.convert('L')\n",
    "        new_img.save(img.split('.')[0] + \".jpg\", \"JPEG\")\n",
    "    \n",
    "    print(len(images), \" images resized.\")\n",
    "\n"
   ]
  },
  {
   "cell_type": "code",
   "execution_count": 55,
   "id": "c62774dd-e731-4d08-b72a-4fe440b68f81",
   "metadata": {},
   "outputs": [
    {
     "name": "stdout",
     "output_type": "stream",
     "text": [
      "839  images to be resized.\n",
      "839  images resized.\n",
      "가위 이미지 resize 완료!\n",
      "840  images to be resized.\n",
      "840  images resized.\n",
      "바위 이미지 resize 완료!\n",
      "840  images to be resized.\n",
      "840  images resized.\n",
      "보 이미지 resize 완료!\n"
     ]
    }
   ],
   "source": [
    "# 가위 이미지가 저장된 디렉토리\n",
    "image_dir_path = os.getenv(\"HOME\") + \"/Documents/projects/Aiffel/lms/projects/data/proj_5/train/scissor/\"\n",
    "# resize\n",
    "resize_images(image_dir_path)\n",
    "\n",
    "print(\"가위 이미지 resize 완료!\")\n",
    "\n",
    "# 바위 이미지가 저장된 디렉토리 아래의 모든 jpg 파일을 읽어들여서\n",
    "image_dir_path = os.getenv(\"HOME\") + \"/Documents/projects/Aiffel/lms/projects/data/proj_5/train/rock/\"\n",
    "\n",
    "# resize\n",
    "resize_images(image_dir_path)\n",
    "print(\"바위 이미지 resize 완료!\")\n",
    "\n",
    "# 보이미지가 저장된 디렉토리 \n",
    "image_dir_path = os.getenv(\"HOME\") + \"/Documents/projects/Aiffel/lms/projects/data/proj_5/train/paper/\"\n",
    "\n",
    "# resize\n",
    "resize_images(image_dir_path)\n",
    "print(\"보 이미지 resize 완료!\")"
   ]
  },
  {
   "cell_type": "code",
   "execution_count": 58,
   "id": "eb8cde40-b633-48be-8e0a-d5027a0e6723",
   "metadata": {},
   "outputs": [],
   "source": [
    "def load_data(img_path, number_of_data):  # 가위/바위/보 이미지 개수 총합에 주의하세요.\n",
    "    # 가위 : 0, 바위 : 1, 보 : 2\n",
    "    img_size=112\n",
    "    color=1\n",
    "    #이미지 데이터와 라벨(가위 : 0, 바위 : 1, 보 : 2) 데이터를 담을 행렬(matrix) 영역을 생성합니다.\n",
    "    imgs=np.zeros(number_of_data*img_size*img_size*color,dtype=np.int32).reshape(number_of_data,img_size,img_size,color)\n",
    "    labels=np.zeros(number_of_data,dtype=np.int32)\n",
    "\n",
    "    idx=0\n",
    "    for file in glob.iglob(img_path+'/scissor/*.jpg'):\n",
    "        img = np.array(Image.open(file),dtype=np.int32)\n",
    "        imgs[idx,:]=img.reshape(img_size,img_size, color)\n",
    "        # imgs[idx,:,:,:]=img    # 데이터 영역에 이미지 행렬을 복사\n",
    "        labels[idx]=0   # 가위 : 0\n",
    "        idx=idx+1\n",
    "\n",
    "    for file in glob.iglob(img_path+'/rock/*.jpg'):\n",
    "        img = np.array(Image.open(file),dtype=np.int32)\n",
    "        imgs[idx,:]=img.reshape(img_size,img_size, color)\n",
    "        # imgs[idx,:,:,:]=img    # 데이터 영역에 이미지 행렬을 복사\n",
    "        labels[idx]=1   # 바위 : 1\n",
    "        idx=idx+1  \n",
    "    \n",
    "    for file in glob.iglob(img_path+'/paper/*.jpg'):\n",
    "        img = np.array(Image.open(file),dtype=np.int32)\n",
    "        imgs[idx,:]=img.reshape(img_size,img_size, color)\n",
    "        # imgs[idx,:,:,:]=img    # 데이터 영역에 이미지 행렬을 복사\n",
    "        labels[idx]=2   # 보 : 2\n",
    "        idx=idx+1\n",
    "        \n",
    "    print(\"변환한 데이터의 이미지 개수는\", idx,\"입니다.\")\n",
    "    return imgs, labels"
   ]
  },
  {
   "cell_type": "code",
   "execution_count": 59,
   "id": "896a423c-e09e-4a4a-95c1-e6f77f04bffd",
   "metadata": {},
   "outputs": [
    {
     "name": "stdout",
     "output_type": "stream",
     "text": [
      "변환한 데이터의 이미지 개수는 2519 입니다.\n",
      "x_train shape: (2015, 112, 112, 1)\n",
      "y_train shape: (2015,)\n",
      "x_val shape: (504, 112, 112, 1)\n",
      "y_val shape: (504,)\n"
     ]
    }
   ],
   "source": [
    "from sklearn.model_selection import train_test_split\n",
    "image_dir_path = os.getenv(\"HOME\") + \"/Documents/projects/Aiffel/lms/projects/data/proj_5/train\"\n",
    "(x_train, y_train)=load_data(image_dir_path, number_of_data=2519)\n",
    "(x_train, x_val, y_train, y_val) = train_test_split(x_train, y_train, test_size=0.2)\n",
    "x_train_norm = x_train/255.0   # 입력은 0~1 사이의 값으로 정규화\n",
    "x_val_norm = x_val/255.0\n",
    "\n",
    "\n",
    "print(\"x_train shape: {}\".format(x_train.shape))\n",
    "print(\"y_train shape: {}\".format(y_train.shape))\n",
    "print(\"x_val shape: {}\".format(x_val.shape))\n",
    "print(\"y_val shape: {}\".format(y_val.shape))"
   ]
  },
  {
   "cell_type": "code",
   "execution_count": 61,
   "id": "0afebff8-b800-4cb2-8343-b764be43dd33",
   "metadata": {},
   "outputs": [
    {
     "name": "stdout",
     "output_type": "stream",
     "text": [
      "라벨:  2\n"
     ]
    },
    {
     "data": {
      "image/png": "[encoded data removed]",
      "text/plain": [
       "<Figure size 640x480 with 1 Axes>"
      ]
     },
     "metadata": {},
     "output_type": "display_data"
    }
   ],
   "source": [
    "plt.imshow(x_train[1000], cmap='gray', vmin=0, vmax=255)\n",
    "print('라벨: ', y_train[1000])"
   ]
  },
  {
   "cell_type": "markdown",
   "id": "08e2dc5f-47ea-4796-b2c6-690b53795687",
   "metadata": {},
   "source": [
    "## 딥러닝 네트워크 설계하기\n",
    "자 이제 데이터의 준비가 끝났습니다. 이제 여러분들이 가위바위보를 인식하는 딥러닝 네트워크를 설계해 볼까요?"
   ]
  },
  {
   "cell_type": "code",
   "execution_count": 64,
   "id": "23137283-a0f7-4960-b755-6a2a5ed7abc1",
   "metadata": {},
   "outputs": [
    {
     "name": "stdout",
     "output_type": "stream",
     "text": [
      "Model에 추가된 Layer 개수:  7\n",
      "Model: \"sequential_3\"\n",
      "_________________________________________________________________\n",
      " Layer (type)                Output Shape              Param #   \n",
      "=================================================================\n",
      " conv2d_6 (Conv2D)           (None, 110, 110, 16)      160       \n",
      "                                                                 \n",
      " max_pooling2d_6 (MaxPooling  (None, 55, 55, 16)       0         \n",
      " 2D)                                                             \n",
      "                                                                 \n",
      " conv2d_7 (Conv2D)           (None, 53, 53, 32)        4640      \n",
      "                                                                 \n",
      " max_pooling2d_7 (MaxPooling  (None, 26, 26, 32)       0         \n",
      " 2D)                                                             \n",
      "                                                                 \n",
      " flatten_3 (Flatten)         (None, 21632)             0         \n",
      "                                                                 \n",
      " dense_6 (Dense)             (None, 32)                692256    \n",
      "                                                                 \n",
      " dense_7 (Dense)             (None, 3)                 99        \n",
      "                                                                 \n",
      "=================================================================\n",
      "Total params: 697,155\n",
      "Trainable params: 697,155\n",
      "Non-trainable params: 0\n",
      "_________________________________________________________________\n"
     ]
    }
   ],
   "source": [
    "import tensorflow as tf\n",
    "from tensorflow import keras\n",
    "import numpy as np\n",
    "\n",
    "# model을 직접 만들어 보세요.\n",
    "# Hint! model의 입력/출력부에 특히 유의해 주세요. 가위바위보 데이터셋은 MNIST 데이터셋과 어떤 점이 달라졌나요?\n",
    "model = keras.models.Sequential()\n",
    "model.add(keras.layers.Conv2D(16,(3,3), activation='relu', input_shape=(112,112,1))) # 수정사항\n",
    "model.add(keras.layers.MaxPool2D(2,2))\n",
    "model.add(keras.layers.Conv2D(32, (3,3), activation='relu'))\n",
    "model.add(keras.layers.MaxPooling2D((2,2)))\n",
    "model.add(keras.layers.Flatten())\n",
    "model.add(keras.layers.Dense(32, activation='relu'))\n",
    "model.add(keras.layers.Dense(3, activation='softmax'))\n",
    "\n",
    "print('Model에 추가된 Layer 개수: ', len(model.layers))\n",
    "\n",
    "model.summary()"
   ]
  },
  {
   "cell_type": "markdown",
   "id": "5f1daad9-4029-4ad2-9382-9af48b291552",
   "metadata": {},
   "source": [
    "## 딥러닝 네트워크 학습시키기\n",
    "잘 설계가 되었다면, 이제 학습을 시켜봅시다. 아마도 여러분들의 데이터는 거의 비슷비슷할 것이기 때문에 accuracy가 꽤 높게 나올 것입니다."
   ]
  },
  {
   "cell_type": "code",
   "execution_count": 65,
   "id": "4b876821-2f33-4232-8a60-2f51d858df3d",
   "metadata": {},
   "outputs": [
    {
     "name": "stdout",
     "output_type": "stream",
     "text": [
      "Epoch 1/10\n"
     ]
    },
    {
     "name": "stderr",
     "output_type": "stream",
     "text": [
      "2023-01-03 01:40:31.545031: I tensorflow/core/grappler/optimizers/custom_graph_optimizer_registry.cc:113] Plugin optimizer for device_type GPU is enabled.\n"
     ]
    },
    {
     "name": "stdout",
     "output_type": "stream",
     "text": [
      "63/63 [==============================] - ETA: 0s - loss: 0.6362 - accuracy: 0.7385"
     ]
    },
    {
     "name": "stderr",
     "output_type": "stream",
     "text": [
      "2023-01-03 01:40:33.367498: I tensorflow/core/grappler/optimizers/custom_graph_optimizer_registry.cc:113] Plugin optimizer for device_type GPU is enabled.\n"
     ]
    },
    {
     "name": "stdout",
     "output_type": "stream",
     "text": [
      "63/63 [==============================] - 2s 28ms/step - loss: 0.6362 - accuracy: 0.7385 - val_loss: 0.1330 - val_accuracy: 0.9742\n",
      "Epoch 2/10\n",
      "63/63 [==============================] - 1s 23ms/step - loss: 0.0566 - accuracy: 0.9901 - val_loss: 0.0194 - val_accuracy: 0.9980\n",
      "Epoch 3/10\n",
      "63/63 [==============================] - 1s 23ms/step - loss: 0.0155 - accuracy: 0.9975 - val_loss: 0.0101 - val_accuracy: 0.9980\n",
      "Epoch 4/10\n",
      "63/63 [==============================] - 1s 23ms/step - loss: 0.0048 - accuracy: 1.0000 - val_loss: 0.0039 - val_accuracy: 1.0000\n",
      "Epoch 5/10\n",
      "63/63 [==============================] - 1s 23ms/step - loss: 0.0032 - accuracy: 1.0000 - val_loss: 0.0029 - val_accuracy: 1.0000\n",
      "Epoch 6/10\n",
      "63/63 [==============================] - 1s 23ms/step - loss: 0.0017 - accuracy: 1.0000 - val_loss: 0.0024 - val_accuracy: 1.0000\n",
      "Epoch 7/10\n",
      "63/63 [==============================] - 1s 23ms/step - loss: 0.0010 - accuracy: 1.0000 - val_loss: 0.0013 - val_accuracy: 1.0000\n",
      "Epoch 8/10\n",
      "63/63 [==============================] - 2s 25ms/step - loss: 7.6941e-04 - accuracy: 1.0000 - val_loss: 0.0012 - val_accuracy: 1.0000\n",
      "Epoch 9/10\n",
      "63/63 [==============================] - 2s 25ms/step - loss: 5.7112e-04 - accuracy: 1.0000 - val_loss: 0.0010 - val_accuracy: 1.0000\n",
      "Epoch 10/10\n",
      "63/63 [==============================] - 1s 23ms/step - loss: 4.6581e-04 - accuracy: 1.0000 - val_loss: 8.9917e-04 - val_accuracy: 1.0000\n"
     ]
    }
   ],
   "source": [
    "# model을 학습시키는 코드를 직접 작성해 보세요.\n",
    "# Hint! model.compile()과 model.fit()을 사용해 봅시다.\n",
    "x_train_reshaped = x_train_norm.reshape( -1, 112, 112, 1)  # 데이터갯수에 -1을 쓰면 reshape시 자동계산됩니다.\n",
    "x_val_reshaped = x_val_norm.reshape(-1,112,112,1)\n",
    "model.compile(optimizer='adam',\n",
    "             loss='sparse_categorical_crossentropy',\n",
    "             metrics=['accuracy'])\n",
    "\n",
    "history = model.fit(x_train_reshaped, y_train, epochs=10, validation_data=(x_val_reshaped, y_val))"
   ]
  },
  {
   "cell_type": "markdown",
   "id": "575ef97f-0203-4e13-8af2-ec174b008aca",
   "metadata": {},
   "source": [
    "## 얼마나 잘 만들었는지 확인하기(테스트)\n",
    "여러분들은 300장의 가위바위보 이미지를 만들어 모두 학습에 사용했습니다. 그러므로 테스트 데이터가 없죠. 옆 친구의 이미지 데이터 300장을 받아오세요. 그리고 그것을 테스트 데이터로 하여 test accuracy를 측정해보세요. (만약 웹캠이 없는 경우 섹션을 진행하신 경우, 이미 test 데이터셋이 준비돼있으니 친구에게 조르지 않으셔도 됩니다)"
   ]
  },
  {
   "cell_type": "markdown",
   "id": "5b30c61e-c0ba-4a39-8834-4421055ab6b0",
   "metadata": {},
   "source": [
    "우선 테스트용 데이터인 x_test, y_test를 만들어 봅시다."
   ]
  },
  {
   "cell_type": "code",
   "execution_count": 66,
   "id": "a934caa6-8ab7-4f2f-a836-d74f75e22ca0",
   "metadata": {},
   "outputs": [],
   "source": [
    "def resize_test_images(image_dir_path):\n",
    "    images=glob.glob(image_dir_path + \"/*.jpg\")  \n",
    "    \n",
    "    print(len(images), \"images to be resized.\")\n",
    "\n",
    "    # 파일마다 모두 112x112 사이즈로 바꾸어 저장합니다.\n",
    "    target_size=(112,112)\n",
    "    \n",
    "    for img in images:\n",
    "        old_img=Image.open(img)\n",
    "        new_img=old_img.resize(target_size,Image.ANTIALIAS)\n",
    "        new_img = new_img.convert('L')\n",
    "        contrast = ImageEnhance.Contrast(new_img)\n",
    "        new_img = contrast.enhance(1.5)\n",
    "        brightness = ImageEnhance.Brightness(new_img)\n",
    "        new_img = brightness.enhance(1.5)\n",
    "        new_img.save(img, \"JPEG\")\n",
    "    \n",
    "    print(len(images), \" images resized.\")\n",
    "\n"
   ]
  },
  {
   "cell_type": "code",
   "execution_count": 73,
   "id": "ca58f893-c68d-48b8-8c51-12d54d501d13",
   "metadata": {},
   "outputs": [
    {
     "name": "stdout",
     "output_type": "stream",
     "text": [
      "100 images to be resized.\n",
      "100  images resized.\n",
      "100 images to be resized.\n",
      "100  images resized.\n",
      "100 images to be resized.\n",
      "100  images resized.\n"
     ]
    }
   ],
   "source": [
    "# scissor\n",
    "image_dir_path = os.getenv(\"HOME\") + \"/Documents/projects/Aiffel/lms/projects/data/proj_5/test/scissor\"\n",
    "resize_test_images(image_dir_path)\n",
    "# rock\n",
    "image_dir_path = os.getenv(\"HOME\") + \"/Documents/projects/Aiffel/lms/projects/data/proj_5/test/rock\"\n",
    "resize_test_images(image_dir_path)\n",
    "# paper\n",
    "image_dir_path = os.getenv(\"HOME\") + \"/Documents/projects/Aiffel/lms/projects/data/proj_5/test/paper\"\n",
    "resize_test_images(image_dir_path)\n"
   ]
  },
  {
   "cell_type": "code",
   "execution_count": 74,
   "id": "8b62bf62-39e2-41c4-a669-614e99e7bd58",
   "metadata": {},
   "outputs": [],
   "source": [
    "def load_test_data(image_dir_path, number_of_data):  # 가위/바위/보 이미지 개수 총합에 주의하세요.\n",
    "    # 가위 : 0, 바위 : 1, 보 : 2\n",
    "    img_size=112\n",
    "    color=1\n",
    "    #이미지 데이터와 라벨(가위 : 0, 바위 : 1, 보 : 2) 데이터를 담을 행렬(matrix) 영역을 생성합니다.\n",
    "    imgs=np.zeros(number_of_data*img_size*img_size*color,dtype=np.int32).reshape(number_of_data,img_size,img_size,color)\n",
    "    labels=np.zeros(number_of_data,dtype=np.int32)\n",
    "\n",
    "    idx=0\n",
    "    for file in glob.iglob(image_dir_path+'/scissor/*.jpg'):\n",
    "        img = np.array(Image.open(file),dtype=np.int32)\n",
    "        imgs[idx,:]=img.reshape(img_size,img_size, color)\n",
    "        # imgs[idx,:,:,:]=img    # 데이터 영역에 이미지 행렬을 복사\n",
    "        labels[idx]=0   # 가위 : 0\n",
    "        idx=idx+1\n",
    "\n",
    "    for file in glob.iglob(image_dir_path+'/rock/*.jpg'):\n",
    "        img = np.array(Image.open(file),dtype=np.int32)\n",
    "        imgs[idx,:]=img.reshape(img_size,img_size, color)\n",
    "        # imgs[idx,:,:,:]=img    # 데이터 영역에 이미지 행렬을 복사\n",
    "        labels[idx]=1   # 바위 : 1\n",
    "        idx=idx+1  \n",
    "    \n",
    "    for file in glob.iglob(image_dir_path+'/paper/*.jpg'):\n",
    "        img = np.array(Image.open(file),dtype=np.int32)\n",
    "        imgs[idx,:]=img.reshape(img_size,img_size, color)\n",
    "        # imgs[idx,:,:,:]=img    # 데이터 영역에 이미지 행렬을 복사\n",
    "        labels[idx]=2   # 보 : 2\n",
    "        idx=idx+1\n",
    "        \n",
    "    print(\"변환한 데이터의 이미지 개수는\", idx,\"입니다.\")\n",
    "    return imgs, labels"
   ]
  },
  {
   "cell_type": "code",
   "execution_count": 75,
   "id": "31ad8782-2414-418f-b87c-9f52b17c8ccd",
   "metadata": {},
   "outputs": [
    {
     "name": "stdout",
     "output_type": "stream",
     "text": [
      "변환한 데이터의 이미지 개수는 300 입니다.\n"
     ]
    }
   ],
   "source": [
    "# x_test, y_test를 만들기\n",
    "image_dir_path = os.getenv(\"HOME\") + \"/Documents/projects/Aiffel/lms/projects/data/proj_5/test\"\n",
    "(x_test, y_test)=load_test_data(image_dir_path, number_of_data=300)"
   ]
  },
  {
   "cell_type": "code",
   "execution_count": 76,
   "id": "0fb773ec-0ad6-428f-bbfe-2e8536b57777",
   "metadata": {},
   "outputs": [
    {
     "name": "stdout",
     "output_type": "stream",
     "text": [
      "label: 0\n"
     ]
    },
    {
     "data": {
      "image/png": "[encoded data removed]",
      "text/plain": [
       "<Figure size 640x480 with 1 Axes>"
      ]
     },
     "metadata": {},
     "output_type": "display_data"
    },
    {
     "name": "stdout",
     "output_type": "stream",
     "text": [
      "label: 1\n"
     ]
    },
    {
     "data": {
      "image/png": "[encoded data removed]",
      "text/plain": [
       "<Figure size 640x480 with 1 Axes>"
      ]
     },
     "metadata": {},
     "output_type": "display_data"
    },
    {
     "name": "stdout",
     "output_type": "stream",
     "text": [
      "label: 2\n"
     ]
    },
    {
     "data": {
      "image/png": "[encoded data removed]",
      "text/plain": [
       "<Figure size 640x480 with 1 Axes>"
      ]
     },
     "metadata": {},
     "output_type": "display_data"
    }
   ],
   "source": [
    "# 이미지 확인\n",
    "plt.imshow(x_test[0], cmap='gray', vmin=0, vmax=255)\n",
    "print(\"label:\", y_test[0])\n",
    "plt.show()\n",
    "plt.imshow(x_test[100], cmap='gray', vmin=0, vmax=255)\n",
    "print(\"label:\", y_test[100])\n",
    "plt.show()\n",
    "plt.imshow(x_test[202], cmap='gray', vmin=0, vmax=255)\n",
    "print(\"label:\", y_test[202])\n",
    "plt.show()"
   ]
  },
  {
   "cell_type": "code",
   "execution_count": 80,
   "id": "80e8cb74-01fc-4899-8782-5e219f587ca2",
   "metadata": {},
   "outputs": [
    {
     "name": "stdout",
     "output_type": "stream",
     "text": [
      "(300, 112, 112, 1)\n",
      "[[[[1.        ]\n",
      "   [1.        ]\n",
      "   [1.        ]\n",
      "   ...\n",
      "   [1.        ]\n",
      "   [1.        ]\n",
      "   [1.        ]]\n",
      "\n",
      "  [[1.        ]\n",
      "   [1.        ]\n",
      "   [1.        ]\n",
      "   ...\n",
      "   [1.        ]\n",
      "   [1.        ]\n",
      "   [1.        ]]\n",
      "\n",
      "  [[1.        ]\n",
      "   [1.        ]\n",
      "   [1.        ]\n",
      "   ...\n",
      "   [1.        ]\n",
      "   [1.        ]\n",
      "   [1.        ]]\n",
      "\n",
      "  ...\n",
      "\n",
      "  [[1.        ]\n",
      "   [1.        ]\n",
      "   [1.        ]\n",
      "   ...\n",
      "   [0.69019608]\n",
      "   [0.65490196]\n",
      "   [0.64313725]]\n",
      "\n",
      "  [[1.        ]\n",
      "   [1.        ]\n",
      "   [1.        ]\n",
      "   ...\n",
      "   [0.70980392]\n",
      "   [0.68235294]\n",
      "   [0.65490196]]\n",
      "\n",
      "  [[1.        ]\n",
      "   [1.        ]\n",
      "   [1.        ]\n",
      "   ...\n",
      "   [0.6627451 ]\n",
      "   [0.65882353]\n",
      "   [0.63529412]]]]\n"
     ]
    }
   ],
   "source": [
    "x_test_norm = x_test / 255.0\n",
    "x_test_reshaped = x_test_norm.reshape( -1, 112, 112, 1)\n",
    "print(x_test_reshaped.shape)\n",
    "print(x_test_reshaped[:1,:])"
   ]
  },
  {
   "cell_type": "markdown",
   "id": "dfb54fac-a527-4fe0-b65f-36eb0fe4fe3b",
   "metadata": {},
   "source": [
    "테스트용 데이터가 준비되었으니, 위에서 훈련시킨 model을 사용하여 test_accuracy를 측정해 봅시다"
   ]
  },
  {
   "cell_type": "code",
   "execution_count": 81,
   "id": "92a4b75c-0e6e-4dae-9fe6-1d9b0df2872b",
   "metadata": {},
   "outputs": [
    {
     "name": "stdout",
     "output_type": "stream",
     "text": [
      "10/10 - 0s - loss: 4.5591 - accuracy: 0.4533 - 158ms/epoch - 16ms/step\n",
      "test_loss: 4.559093475341797\n",
      "test_accuracy: 0.4533333480358124\n"
     ]
    }
   ],
   "source": [
    "test_loss, test_accuracy = model.evaluate(x_test_reshaped,y_test, verbose=2)\n",
    "print(f\"test_loss: {test_loss}\")\n",
    "print(f\"test_accuracy: {test_accuracy}\")"
   ]
  },
  {
   "cell_type": "markdown",
   "id": "910793f8-e400-441d-8243-6cddd5c3f95f",
   "metadata": {},
   "source": [
    "- 지속적으로 test_accuracy가 33%가 나오는 것으로 확인되었다. 이 현상은 정상적이지 않은 현상으로 수업시간에도 잠깐 언급되었던 사안이다. 우선 어떤 부분이 잘못되었는지 확인해봐야 한다."
   ]
  },
  {
   "cell_type": "code",
   "execution_count": 82,
   "id": "e502a426-4e8d-4652-b297-6d1858fef86e",
   "metadata": {},
   "outputs": [
    {
     "name": "stdout",
     "output_type": "stream",
     "text": [
      "10/10 [==============================] - 0s 9ms/step\n"
     ]
    },
    {
     "name": "stderr",
     "output_type": "stream",
     "text": [
      "2023-01-03 01:43:36.211638: I tensorflow/core/grappler/optimizers/custom_graph_optimizer_registry.cc:113] Plugin optimizer for device_type GPU is enabled.\n"
     ]
    },
    {
     "data": {
      "text/plain": [
       "array([0, 1, 1, 1, 1, 1, 1, 1, 1, 2, 2, 1, 1, 2, 1, 2, 1, 1, 1, 1, 1, 0,\n",
       "       1, 1, 0, 1, 2, 1, 2, 1, 1, 2, 2, 0, 1, 1, 1, 1, 2, 0, 2, 0, 0, 2,\n",
       "       0, 2, 1, 1, 1, 1, 2, 0, 1, 0, 1, 2, 1, 1, 2, 1, 0, 1, 1, 1, 0, 2,\n",
       "       0, 2, 1, 0, 1, 1, 1, 2, 1, 2, 2, 1, 2, 1, 1, 1, 1, 1, 1, 1, 1, 1,\n",
       "       1, 1, 0, 1, 1, 0, 1, 1, 1, 1, 1, 1, 1, 1, 1, 1, 1, 1, 1, 1, 1, 1,\n",
       "       1, 1, 1, 1, 1, 1, 1, 1, 1, 1, 1, 1, 1, 1, 1, 1, 1, 1, 1, 1, 1, 1,\n",
       "       1, 1, 1, 1, 1, 1, 1, 1, 1, 1, 1, 1, 1, 1, 1, 1, 1, 1, 1, 1, 1, 1,\n",
       "       1, 1, 1, 1, 1, 1, 1, 1, 1, 1, 1, 1, 1, 1, 1, 1, 1, 1, 1, 1, 1, 1,\n",
       "       1, 1, 1, 1, 1, 1, 1, 1, 1, 1, 1, 1, 1, 1, 1, 1, 1, 1, 1, 1, 1, 1,\n",
       "       1, 1, 1, 2, 1, 1, 0, 1, 1, 1, 0, 1, 2, 1, 1, 2, 1, 1, 2, 0, 2, 1,\n",
       "       2, 0, 1, 2, 1, 1, 1, 1, 1, 1, 2, 1, 1, 1, 1, 2, 2, 1, 2, 1, 2, 2,\n",
       "       1, 2, 0, 1, 1, 1, 1, 1, 2, 1, 1, 1, 2, 1, 1, 2, 1, 2, 1, 1, 1, 1,\n",
       "       1, 1, 1, 1, 1, 1, 0, 1, 1, 2, 1, 1, 1, 1, 1, 1, 1, 1, 1, 1, 1, 1,\n",
       "       1, 1, 1, 1, 1, 1, 1, 1, 0, 1, 1, 1, 1, 2])"
      ]
     },
     "execution_count": 82,
     "metadata": {},
     "output_type": "execute_result"
    }
   ],
   "source": [
    "test_temp = model.predict(x_test_reshaped)\n",
    "np.argmax(test_temp, axis = 1)"
   ]
  },
  {
   "cell_type": "markdown",
   "id": "51f82723-29a5-44bb-bd1a-7f2882ea3578",
   "metadata": {},
   "source": [
    "- 확인결과 모델이 모든 데이터에 대해서 하나로 예측하는 결과 발생 이에 대한 잠재적 원인으로는\n",
    "    - 정규화(normalize) issue\n",
    "    - Data 편향 issue\n",
    "        - png를 convert()를 통해 jpeg로 변환하면서 생긴 데이터의 문제\n",
    "        - 단순히 데이터가 편향되어 있을 가능성, train or test라벨의 이미지가 한쪽으로 지나치게 치우쳐진경우, 혹은 가위바위보와 상관없이 배경이미지가 영향을 주고 있는 경우\n",
    "    - overfitting issue\n",
    "\n",
    "\n",
    "등이 있을 것으로 판단\n",
    "\n",
    "- 확인결과 test데이터를 변경하자 모델의 예측력이 올라갔으며, 실제 이미지를 확인한 결과 지난 데이터에 비해 배경 등이 없는 보다  neat한 데이터인 것으로 확인됨"
   ]
  },
  {
   "cell_type": "markdown",
   "id": "e4fc5cb8-ab63-4dd4-b4b6-4945664fc763",
   "metadata": {},
   "source": [
    "## 학습 결과 시각화\n",
    "### 학습과정이 정상적으로 수행되었으며, 학습 결과에 대한 그래프를 시각화(ex. train acc / train loss / val acc / val loss 등)"
   ]
  },
  {
   "cell_type": "code",
   "execution_count": 83,
   "id": "6059866a-8794-4816-97ee-f1e89be6d958",
   "metadata": {},
   "outputs": [
    {
     "data": {
      "image/png": "[encoded data removed]",
      "text/plain": [
       "<Figure size 640x480 with 1 Axes>"
      ]
     },
     "metadata": {},
     "output_type": "display_data"
    }
   ],
   "source": [
    "# 참고: https://www.pluralsight.com/guides/data-visualization-deep-learning-model-using-matplotlib\n",
    "train_loss = history.history['loss']\n",
    "accuracy = history.history['accuracy']\n",
    "val_loss = history.history['val_loss']\n",
    "val_accuracy = history.history['val_accuracy']\n",
    "\n",
    "epochs = range(1,11)\n",
    "\n",
    "plt.plot(epochs, train_loss, label='Training loss')\n",
    "plt.plot(epochs, accuracy, label='accuracy')\n",
    "plt.plot(epochs, val_accuracy, label='validation accuracy')\n",
    "plt.plot(epochs, val_loss, label='validation loss')\n",
    "# plt.title('Training and Validation loss')\n",
    "# plt.xlabel('Epochs')\n",
    "# plt.ylabel('Loss')\n",
    "plt.legend()\n",
    "plt.show()"
   ]
  },
  {
   "cell_type": "markdown",
   "id": "f429b33f-bd7e-4c3a-933c-34d506e3b2ee",
   "metadata": {},
   "source": [
    "## 더 좋은 네트워크 만들어보기\n",
    "시험용 데이터x_test에 대한 인식률 test accuracy가 train accuracy보다 많이 낮게 나오지는 않았나요? 만약 그렇다면 그 이유는 무엇일까요? MNIST 손글씨 데이터 때처럼 test accuracy가 train accuracy에 근접하도록 개선 방법을 찾아 봅시다.\n",
    "\n",
    "## 노드를 마치며...\n",
    "여러분 미니 프로젝트는 잘 마치셨나요? 여러분은 이번 노드를 통해 다음의 내용을 배웠습니다.\n",
    "- 이미 잘 정제된 10개 클래스의 숫자 손글씨 데이터를 분류하는 classifier 만들기\n",
    "- 정제되지 않은 웹캠 사진으로부터 데이터 만들어보기\n",
    "- 흑백 사진이 아닌 컬러 사진을 학습하는 classifier 만들기\n",
    "- 분류하고자 하는 클래스의 개수를 마음대로 조절하기 (10개에서 3개로)\n",
    "\n",
    "그러면 오늘 배운 내용을 바탕으로 마스크 쓴 사람과 안 쓴 사람을 구분하는 프로젝트도 금방 만드실 수 있겠죠? AIFFEL 입구에서 마스크 안 쓴 사람을 자동으로 감지하고 알람을 주는 시스템을 만들어 주실 용자분 계실까요?!!!"
   ]
  },
  {
   "cell_type": "code",
   "execution_count": 84,
   "id": "bcb5b02a-09c8-4b1a-a071-f5ab6bf036ff",
   "metadata": {},
   "outputs": [],
   "source": [
    "# parameter값 조정\n",
    "def test_dl(A,B,C,x_train_reshaped, y_train, x_test_reshaped,y_test,D=3, epoch=5):\n",
    "    model = keras.models.Sequential()\n",
    "    model.add(keras.layers.Conv2D(A,(3,3), activation='relu', input_shape=(112,112,1)))\n",
    "    model.add(keras.layers.MaxPool2D(2,2))\n",
    "    model.add(keras.layers.Conv2D(B, (3,3), activation='relu'))\n",
    "    model.add(keras.layers.MaxPooling2D((2,2)))\n",
    "    model.add(keras.layers.Flatten())\n",
    "    model.add(keras.layers.Dense(C, activation='relu'))\n",
    "    model.add(keras.layers.Dense(D, activation='softmax'))\n",
    "    model.compile(optimizer='adagrad',\n",
    "             loss='sparse_categorical_crossentropy',\n",
    "             metrics=['accuracy'])\n",
    "\n",
    "    results = model.fit(x_train_reshaped, y_train, epochs=epoch, validation_data=(x_val_reshaped, y_val), verbose = 1)\n",
    "    test_loss, test_accuracy = model.evaluate(x_test_reshaped,y_test, verbose=2)\n",
    "    \n",
    "    print(\"\\n\", f\"A = {A}\", f\"B = {B}\",f\"C = {C}\",f\"D = {D}\",f\"epoch = {epoch}\",f\"test_loss: {test_loss:.2f}\",f\"test_accuracy: {test_accuracy:.2f}\", f\"accuracy: {results.history['accuracy'][-1]: .2f}\")\n",
    "    train_loss = results.history['loss']\n",
    "    accuracy = results.history['accuracy']\n",
    "    val_loss = results.history['val_loss']\n",
    "    val_accuracy = results.history['val_accuracy']\n",
    "\n",
    "    epochs = range(1,epoch+1)\n",
    "\n",
    "    plt.plot(epochs, val_accuracy, label='validation accuracy')\n",
    "    plt.plot(epochs, val_loss, label='validation loss')\n",
    "    plt.plot(epochs, train_loss, label='Training loss')\n",
    "    plt.plot(epochs, accuracy, label='accuracy')\n",
    "    # plt.title('Training and Validation loss')\n",
    "    plt.xlabel('Epochs')\n",
    "    plt.ylabel('Loss')\n",
    "    plt.legend()\n",
    "    plt.show()\n"
   ]
  },
  {
   "cell_type": "code",
   "execution_count": 88,
   "id": "b8cec2b2-a4a9-4855-9b2e-b79d9ac1bfed",
   "metadata": {},
   "outputs": [
    {
     "name": "stdout",
     "output_type": "stream",
     "text": [
      "Epoch 1/40\n",
      " 1/63 [..............................] - ETA: 19s - loss: 1.1138 - accuracy: 0.3125"
     ]
    },
    {
     "name": "stderr",
     "output_type": "stream",
     "text": [
      "2023-01-03 01:47:05.741011: I tensorflow/core/grappler/optimizers/custom_graph_optimizer_registry.cc:113] Plugin optimizer for device_type GPU is enabled.\n"
     ]
    },
    {
     "name": "stdout",
     "output_type": "stream",
     "text": [
      "63/63 [==============================] - ETA: 0s - loss: 1.0843 - accuracy: 0.4114"
     ]
    },
    {
     "name": "stderr",
     "output_type": "stream",
     "text": [
      "2023-01-03 01:47:07.431745: I tensorflow/core/grappler/optimizers/custom_graph_optimizer_registry.cc:113] Plugin optimizer for device_type GPU is enabled.\n"
     ]
    },
    {
     "name": "stdout",
     "output_type": "stream",
     "text": [
      "63/63 [==============================] - 2s 28ms/step - loss: 1.0843 - accuracy: 0.4114 - val_loss: 1.0666 - val_accuracy: 0.5099\n",
      "Epoch 2/40\n",
      "63/63 [==============================] - 2s 23ms/step - loss: 1.0502 - accuracy: 0.5151 - val_loss: 1.0337 - val_accuracy: 0.5179\n",
      "Epoch 3/40\n",
      "63/63 [==============================] - 1s 23ms/step - loss: 1.0113 - accuracy: 0.5613 - val_loss: 1.0045 - val_accuracy: 0.5000\n",
      "Epoch 4/40\n",
      "63/63 [==============================] - 1s 23ms/step - loss: 0.9683 - accuracy: 0.5851 - val_loss: 0.9448 - val_accuracy: 0.6290\n",
      "Epoch 5/40\n",
      "63/63 [==============================] - 2s 24ms/step - loss: 0.9198 - accuracy: 0.6223 - val_loss: 0.8922 - val_accuracy: 0.6230\n",
      "Epoch 6/40\n",
      "63/63 [==============================] - 2s 24ms/step - loss: 0.8638 - accuracy: 0.6615 - val_loss: 0.8294 - val_accuracy: 0.6845\n",
      "Epoch 7/40\n",
      "63/63 [==============================] - 1s 23ms/step - loss: 0.8220 - accuracy: 0.6834 - val_loss: 0.7869 - val_accuracy: 0.7579\n",
      "Epoch 8/40\n",
      "63/63 [==============================] - 1s 23ms/step - loss: 0.7598 - accuracy: 0.7360 - val_loss: 0.7319 - val_accuracy: 0.7877\n",
      "Epoch 9/40\n",
      "63/63 [==============================] - 1s 23ms/step - loss: 0.7099 - accuracy: 0.7519 - val_loss: 0.6869 - val_accuracy: 0.7857\n",
      "Epoch 10/40\n",
      "63/63 [==============================] - 1s 23ms/step - loss: 0.6576 - accuracy: 0.7856 - val_loss: 0.6115 - val_accuracy: 0.8869\n",
      "Epoch 11/40\n",
      "63/63 [==============================] - 1s 23ms/step - loss: 0.6282 - accuracy: 0.7687 - val_loss: 0.5751 - val_accuracy: 0.8016\n",
      "Epoch 12/40\n",
      "63/63 [==============================] - 1s 23ms/step - loss: 0.5670 - accuracy: 0.8243 - val_loss: 0.5189 - val_accuracy: 0.9087\n",
      "Epoch 13/40\n",
      "63/63 [==============================] - 1s 23ms/step - loss: 0.5470 - accuracy: 0.8283 - val_loss: 0.4810 - val_accuracy: 0.9187\n",
      "Epoch 14/40\n",
      "63/63 [==============================] - 2s 25ms/step - loss: 0.5028 - accuracy: 0.8516 - val_loss: 0.5599 - val_accuracy: 0.8075\n",
      "Epoch 15/40\n",
      "63/63 [==============================] - 1s 24ms/step - loss: 0.4700 - accuracy: 0.8605 - val_loss: 0.4477 - val_accuracy: 0.8810\n",
      "Epoch 16/40\n",
      "63/63 [==============================] - 2s 26ms/step - loss: 0.4368 - accuracy: 0.8774 - val_loss: 0.4075 - val_accuracy: 0.8869\n",
      "Epoch 17/40\n",
      "63/63 [==============================] - 1s 24ms/step - loss: 0.4215 - accuracy: 0.8794 - val_loss: 0.4120 - val_accuracy: 0.8631\n",
      "Epoch 18/40\n",
      "63/63 [==============================] - 1s 24ms/step - loss: 0.4062 - accuracy: 0.8829 - val_loss: 0.3441 - val_accuracy: 0.9484\n",
      "Epoch 19/40\n",
      "63/63 [==============================] - 2s 24ms/step - loss: 0.3746 - accuracy: 0.9007 - val_loss: 0.3255 - val_accuracy: 0.9425\n",
      "Epoch 20/40\n",
      "63/63 [==============================] - 1s 24ms/step - loss: 0.3365 - accuracy: 0.9226 - val_loss: 0.3131 - val_accuracy: 0.9365\n",
      "Epoch 21/40\n",
      "63/63 [==============================] - 1s 24ms/step - loss: 0.3155 - accuracy: 0.9300 - val_loss: 0.2844 - val_accuracy: 0.9663\n",
      "Epoch 22/40\n",
      "63/63 [==============================] - 1s 24ms/step - loss: 0.2967 - accuracy: 0.9385 - val_loss: 0.3432 - val_accuracy: 0.8651\n",
      "Epoch 23/40\n",
      "63/63 [==============================] - 1s 23ms/step - loss: 0.2881 - accuracy: 0.9335 - val_loss: 0.2472 - val_accuracy: 0.9722\n",
      "Epoch 24/40\n",
      "63/63 [==============================] - 1s 23ms/step - loss: 0.2642 - accuracy: 0.9469 - val_loss: 0.2314 - val_accuracy: 0.9683\n",
      "Epoch 25/40\n",
      "63/63 [==============================] - 1s 23ms/step - loss: 0.2570 - accuracy: 0.9414 - val_loss: 0.2221 - val_accuracy: 0.9782\n",
      "Epoch 26/40\n",
      "63/63 [==============================] - 1s 24ms/step - loss: 0.2441 - accuracy: 0.9484 - val_loss: 0.4521 - val_accuracy: 0.8155\n",
      "Epoch 27/40\n",
      "63/63 [==============================] - 1s 24ms/step - loss: 0.2198 - accuracy: 0.9598 - val_loss: 0.2201 - val_accuracy: 0.9603\n",
      "Epoch 28/40\n",
      "63/63 [==============================] - 1s 23ms/step - loss: 0.2104 - accuracy: 0.9608 - val_loss: 0.2207 - val_accuracy: 0.9385\n",
      "Epoch 29/40\n",
      "63/63 [==============================] - 1s 24ms/step - loss: 0.2043 - accuracy: 0.9623 - val_loss: 0.1756 - val_accuracy: 0.9821\n",
      "Epoch 30/40\n",
      "63/63 [==============================] - 1s 24ms/step - loss: 0.1949 - accuracy: 0.9643 - val_loss: 0.1715 - val_accuracy: 0.9821\n",
      "Epoch 31/40\n",
      "63/63 [==============================] - 1s 24ms/step - loss: 0.1852 - accuracy: 0.9667 - val_loss: 0.1818 - val_accuracy: 0.9663\n",
      "Epoch 32/40\n",
      "63/63 [==============================] - 2s 24ms/step - loss: 0.1651 - accuracy: 0.9762 - val_loss: 0.1526 - val_accuracy: 0.9841\n",
      "Epoch 33/40\n",
      "63/63 [==============================] - 1s 24ms/step - loss: 0.1684 - accuracy: 0.9707 - val_loss: 0.1974 - val_accuracy: 0.9306\n",
      "Epoch 34/40\n",
      "63/63 [==============================] - 1s 24ms/step - loss: 0.1560 - accuracy: 0.9742 - val_loss: 0.2234 - val_accuracy: 0.9306\n",
      "Epoch 35/40\n",
      "63/63 [==============================] - 2s 24ms/step - loss: 0.1445 - accuracy: 0.9811 - val_loss: 0.1452 - val_accuracy: 0.9901\n",
      "Epoch 36/40\n",
      "63/63 [==============================] - 2s 25ms/step - loss: 0.1409 - accuracy: 0.9806 - val_loss: 0.1273 - val_accuracy: 0.9940\n",
      "Epoch 37/40\n",
      "63/63 [==============================] - 1s 24ms/step - loss: 0.1339 - accuracy: 0.9811 - val_loss: 0.1484 - val_accuracy: 0.9722\n",
      "Epoch 38/40\n",
      "63/63 [==============================] - 1s 24ms/step - loss: 0.1250 - accuracy: 0.9826 - val_loss: 0.1152 - val_accuracy: 0.9901\n",
      "Epoch 39/40\n",
      "63/63 [==============================] - 2s 24ms/step - loss: 0.1283 - accuracy: 0.9792 - val_loss: 0.1102 - val_accuracy: 0.9901\n",
      "Epoch 40/40\n",
      "63/63 [==============================] - 1s 24ms/step - loss: 0.1141 - accuracy: 0.9856 - val_loss: 0.1329 - val_accuracy: 0.9881\n",
      "10/10 - 0s - loss: 1.8176 - accuracy: 0.4767 - 148ms/epoch - 15ms/step\n",
      "\n",
      " A = 16 B = 32 C = 64 D = 3 epoch = 40 test_loss: 1.82 test_accuracy: 0.48 accuracy:  0.99\n"
     ]
    },
    {
     "data": {
      "image/png": "[encoded data removed]",
      "text/plain": [
       "<Figure size 640x480 with 1 Axes>"
      ]
     },
     "metadata": {},
     "output_type": "display_data"
    }
   ],
   "source": [
    "# model을 학습시키는 코드를 직접 작성해 보세요.\n",
    "# Hint! model.evaluate()을 사용해 봅시다.\n",
    "\n",
    "test_dl(16,32,64, x_train_reshaped, y_train, x_test_reshaped, y_test, D=3, epoch=40)\n",
    "# ===손글씨 이미지 데이터 903개, 테스트 300개===(train = 루안, 한준, 종호)\n",
    "# A = 8 B = 16 C = 32 D = 3 epoch = 20 test_loss: 3.17 test_accuracy: 0.47 accuracy:  0.97\n",
    "# A = 8 B = 16 C = 32 D = 3 epoch = 15 test_loss: 2.22 test_accuracy: 0.49 accuracy:  0.96\n",
    "# A = 8 B = 16 C = 32 D = 3 epoch = 20 test_loss: 4.31 test_accuracy: 0.50 accuracy:  0.96\n",
    "# A = 8 B = 32 C = 32 D = 3 epoch = 20 test_loss: 5.00 test_accuracy: 0.51 accuracy:  0.99\n",
    "# A = 8 B = 32 C = 32 D = 3 epoch = 25 test_loss: 3.90 test_accuracy: 0.51 accuracy:  1.00\n",
    "# A = 16 B = 32 C = 32 D = 3 epoch = 25 test_loss: 6.91 test_accuracy: 0.48 accuracy:  1.00\n",
    "# A = 16 B = 32 C = 32 D = 3 epoch = 20 test_loss: 4.19 test_accuracy: 0.53 accuracy:  1.00\n",
    "# A = 16 B = 32 C = 32 D = 3 epoch = 15 test_loss: 3.45 test_accuracy: 0.50 accuracy:  0.98\n",
    "# A = 16 B = 32 C = 128 D = 3 epoch = 25 test_loss: 6.82 test_accuracy: 0.52 accuracy:  1.00\n",
    "# A = 32 B = 64 C = 128 D = 3 epoch = 25 test_loss: 6.88 test_accuracy: 0.47 accuracy:  1.00\n",
    "# ====optimizer = rmsprop\n",
    "# A = 32 B = 64 C = 256 D = 3 epoch = 25 test_loss: 7.21 test_accuracy: 0.50 accuracy:  0.99\n",
    "# A = 16 B = 32 C = 64 D = 3 epoch = 15 test_loss: 4.95 test_accuracy: 0.47 accuracy:  0.95\n",
    "# A = 16 B = 32 C = 32 D = 3 epoch = 15 test_loss: 3.47 test_accuracy: 0.48 accuracy:  0.96\n",
    "# A = 16 B = 32 C = 32 D = 3 epoch = 25 test_loss: 2.97 test_accuracy: 0.54 accuracy:  0.98\n",
    "# ====optimizer = SGD\n",
    "# A = 32 B = 32 C = 64 D = 3 epoch = 30 test_loss: 1.71 test_accuracy: 0.44 accuracy:  0.78\n",
    "# ==== train/test Data 변경 - kaggle rock, scissor, paper Data / optimaizer = adam / test_Data = 이경환님데이터\n",
    "# 33%만 계속 나오는 문제가 지속됨\n",
    "# ==== train/test Data 변경 - kaggle rock, scissor, paper Data / optimaizer = adam / test_Data = 심한준님데이터\n",
    "# A = 16 B = 32 C = 64 D = 3 epoch = 20 test_loss: 4.68 test_accuracy: 0.41 accuracy:  1.00\n",
    "# A = 16 B = 32 C = 64 D = 3 epoch = 5 test_loss: 4.63 test_accuracy: 0.51 accuracy:  1.00\n",
    "# 이미지 파일 contrast 증가시킴(2step) + training loss 및 accuracy 데이터 확인 하면서 하이퍼 파라미터 미세 조정  \n",
    "# A = 16 B = 32 C = 64 D = 3 epoch = 4 test_loss: 3.27 test_accuracy: 0.55 accuracy:  1.00\n",
    "# A = 8 B = 16 C = 32 D = 3 epoch = 3 test_loss: 2.81 test_accuracy: 0.52 accuracy:  1.00\n",
    "### A = 8 B = 16 C = 32 D = 3 epoch = 4 test_loss: 2.72 test_accuracy: 0.57 accuracy:  1.00 ###\n",
    "# 이미지 파일 contrast 증가시킴(1.8step)\n",
    "# A = 8 B = 16 C = 64 D = 3 epoch = 4 test_loss: 3.77 test_accuracy: 0.45 accuracy:  1.00\n",
    "# A = 8 B = 16 C = 32 D = 3 epoch = 4 test_loss: 3.47 test_accuracy: 0.45 accuracy:  1.00\n",
    "# A = 16 B = 32 C = 32 D = 3 epoch = 3 test_loss: 2.03 test_accuracy: 0.50 accuracy:  0.98\n",
    "# A = 16 B = 32 C = 64 D = 3 epoch = 3 test_loss: 2.79 test_accuracy: 0.53 accuracy:  1.00\n",
    "# 누런 배경을 흰 색으로 인식시켜주기 위해 brightness 1.5증가 \n",
    "# A = 16 B = 32 C = 64 D = 3 epoch = 4 test_loss: 3.50 test_accuracy: 0.50 accuracy:  1.00\n",
    "# A = 16 B = 32 C = 64 D = 3 epoch = 3 test_loss: 2.71 test_accuracy: 0.52 accuracy:  1.00\n",
    "# adagrad로 optimizer변경\n",
    "# A = 8 B = 16 C = 32 D = 3 epoch = 10 test_loss: 1.20 test_accuracy: 0.51 accuracy:  0.82\n",
    "# A = 8 B = 16 C = 32 D = 3 epoch = 20 test_loss: 1.47 test_accuracy: 0.49 accuracy:  0.96\n",
    "# A = 8 B = 32 C = 32 D = 3 epoch = 10 test_loss: 1.47 test_accuracy: 0.49 accuracy:  0.96\n",
    "# cont 1.8 / bright 1.8\n",
    "# A = 8 B = 16 C = 32 D = 3 epoch = 30 test_loss: 1.58 test_accuracy: 0.51 accuracy:  0.98\n",
    "# A = 8 B = 32 C = 64 D = 3 epoch = 30 test_loss: 1.54 test_accuracy: 0.53 accuracy:  0.99\n",
    "# 그레이 스케일로\n",
    "# A = 8 B = 16 C = 32 D = 3 epoch = 40 test_loss: 2.10 test_accuracy: 0.46 accuracy:  0.96\n",
    "# A = 16 B = 32 C = 64 D = 3 epoch = 40 test_loss: 1.82 test_accuracy: 0.48 accuracy:  0.99"
   ]
  },
  {
   "cell_type": "markdown",
   "id": "0fa20157-d398-4dbd-a982-f299ae8670d4",
   "metadata": {},
   "source": [
    "- 여러 조합에도 불구하고, 현재 데이터의  accuracy를 높이는 것은 한계가 있어보임\n",
    "- 흑백사진으로 변경하는 것은 단순화하여 예측력을 높일 수 있지 않을까 기대했지만, 오히려 전반적으로 성능이 떨어지는 것으로 보임\n",
    "- 최고 57%까지 test accuracy를 올렸으나, 이는 모델이 우수했다기보다는 우연에 기인한 것으로 보임.\n",
    "- 예측력을 높이기 위해서는 보다 다양한 각도와 상황에서 에서 학습을 할 수 있는 '클린한' 학습데이터 가 필요할 것으로 보임.\n",
    "    - 이를 위해서는 콘트라스트를 높이고\n",
    "    - 명도를 조절하는 것 외에도\n",
    "    - 명확히 사물만 나올 수 있게 크롭하는 것도 생각해볼 수 있음\n",
    "- 레이어를 더 쌓는 방법\n",
    "# \"GIGO!!\""
   ]
  },
  {
   "cell_type": "code",
   "execution_count": null,
   "id": "d8ee64c0-3fb6-4ab0-9fee-645e23a877f0",
   "metadata": {},
   "outputs": [],
   "source": []
  }
 ],
 "metadata": {
  "kernelspec": {
   "display_name": "tf_mac",
   "language": "python",
   "name": "tf_mac"
  },
  "language_info": {
   "codemirror_mode": {
    "name": "ipython",
    "version": 3
   },
   "file_extension": ".py",
   "mimetype": "text/x-python",
   "name": "python",
   "nbconvert_exporter": "python",
   "pygments_lexer": "ipython3",
   "version": "3.10.8"
  }
 },
 "nbformat": 4,
 "nbformat_minor": 5
}
